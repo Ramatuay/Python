{
 "cells": [
  {
   "cell_type": "markdown",
   "metadata": {},
   "source": [
    "# Financial Analytics: Lab 1"
   ]
  },
  {
   "cell_type": "code",
   "execution_count": 1,
   "metadata": {},
   "outputs": [],
   "source": [
    "import pandas as pd\n",
    "import scipy as sp\n",
    "import numpy as np\n",
    "import matplotlib.pyplot as plt\n",
    "import pandas_datareader.data as getData\n",
    "import pandas_datareader as pdr\n",
    "import datetime\n",
    "import numpy"
   ]
  },
  {
   "cell_type": "markdown",
   "metadata": {},
   "source": [
    "#### Question 1\n",
    "\n",
    "What is the present value of $418 received in 12 years with an annual discount rate of 2.2%?\n"
   ]
  },
  {
   "cell_type": "code",
   "execution_count": 2,
   "metadata": {},
   "outputs": [
    {
     "name": "stdout",
     "output_type": "stream",
     "text": [
      "The Present value is $321.93\n"
     ]
    }
   ],
   "source": [
    "PV_Q1 = sp.pv(0.022, 12, 0, 418, when = 'end')*-1\n",
    "print(\"The Present value is \" + \"$\" + \"%.2f\" % PV_Q1)\n",
    "#sp.pv(rate,nper,pmt,fv=0,when='end')"
   ]
  },
  {
   "cell_type": "markdown",
   "metadata": {},
   "source": [
    "#### Question 2\n",
    "\n",
    "If you deposit $2,400 in the bank for 15 years and the annual interest rate us 1.75%, what is the future value of your deposit in 15 years?\n"
   ]
  },
  {
   "cell_type": "code",
   "execution_count": 3,
   "metadata": {},
   "outputs": [
    {
     "name": "stdout",
     "output_type": "stream",
     "text": [
      "Assuming there is only a single deposit of 2400 made on the first year, the Future value of the deposit will be, $3113.35\n"
     ]
    }
   ],
   "source": [
    "#Future value calculation\n",
    "FV_Q2 = sp.fv(0.0175, 15, 0, 2400,  when = 'end') * -1\n",
    "\n",
    "print(\"Assuming there is only a single deposit of 2400 made on the first year, the Future value of the deposit will be, \" + \"$\" + \"%.2f\" % FV_Q2)\n",
    "#sp.fv(rate,nper,pmt,pv=0, when = 'end')"
   ]
  },
  {
   "cell_type": "markdown",
   "metadata": {},
   "source": [
    "#### Question 3\n",
    "\n",
    "Annual payment of an investment is $35 with 18 years remaining in the investment vehicle. What is the present value if the annual discount rate is 4.32%, compounded semi-annually?\n"
   ]
  },
  {
   "cell_type": "code",
   "execution_count": 4,
   "metadata": {},
   "outputs": [
    {
     "name": "stdout",
     "output_type": "stream",
     "text": [
      "The Present value of the Investment compounded semi-annually  is $869.61\n"
     ]
    }
   ],
   "source": [
    "PV_Q3 = sp.pv(0.0432/2, 36, 35, 0,  when = 'end')*-1\n",
    "print(\"The Present value of the Investment compounded semi-annually  is \" + \"$\" + \"%.2f\" % PV_Q3)"
   ]
  },
  {
   "cell_type": "markdown",
   "metadata": {},
   "source": [
    "#### Question 4\n",
    "\n",
    "a)\tIf you are trying to achieve a savings goal of $5,500 by the end of 2023 (assuming you started Jan 1st, 2020), how much do you have to save each year if the corresponding annual rate is 2.98%?\n",
    "\n",
    "b)\tHow much do you have to save semi-annually?\n"
   ]
  },
  {
   "cell_type": "code",
   "execution_count": 5,
   "metadata": {},
   "outputs": [
    {
     "name": "stdout",
     "output_type": "stream",
     "text": [
      "The yearly savings should be $1478.94\n"
     ]
    }
   ],
   "source": [
    "Yearly_payment = numpy.pmt(0.0298, 4, 5500, 0, when='end')*-1\n",
    "\n",
    "print(\"The yearly savings should be \" + \"$\" + \"%.2f\" % Yearly_payment)"
   ]
  },
  {
   "cell_type": "code",
   "execution_count": 7,
   "metadata": {},
   "outputs": [
    {
     "name": "stdout",
     "output_type": "stream",
     "text": [
      "The semi-annual savings should be $734.39\n"
     ]
    }
   ],
   "source": [
    "Yearly_payment = numpy.pmt(0.0298/2, 2*4, 5500,0, when='end')*-1\n",
    "\n",
    "print(\"The semi-annual savings should be \" + \"$\" + \"%.2f\" % Yearly_payment)"
   ]
  },
  {
   "cell_type": "markdown",
   "metadata": {},
   "source": [
    "#### Question 5\n",
    "\n",
    "A capital investment in an equipment with an upfront cost of $23,540 will provide you with the following annual cash flow stream (paid end of year):\n",
    "\n",
    "1.\t$2,000\n",
    "\n",
    "2.\t$1,456\n",
    "\n",
    "3.\t$3,230\n",
    "\n",
    "4.\t$6,850\n",
    "\n",
    "5.\t$2,384\n",
    "\n",
    "6.\t$1,234\n",
    "\n",
    "7.\t$5,987\n",
    "\n",
    "8.\t$4,190\n",
    "\n",
    "The project will incur the following cost for maintenance and repair (paid end of year):\n",
    "\n",
    "Year 3: ($2,984)\n",
    "\n",
    "Year 4: ($1,837)\n",
    "\n",
    "Year 6-8: ($2,000)\n",
    "\n",
    "Calculate the NPV of the investment and comment on whether you should invest in the project. Why or why not? What is the IRR of the investment?"
   ]
  },
  {
   "cell_type": "code",
   "execution_count": 8,
   "metadata": {},
   "outputs": [],
   "source": [
    "cashflow = [-23540,2000, 1456, (3230-2984),(6850-1837),2384,(1234-2000),(5987-2000),(4190-2000)]"
   ]
  },
  {
   "cell_type": "code",
   "execution_count": 9,
   "metadata": {},
   "outputs": [],
   "source": [
    "NPV = sp.npv(0.087,cashflow)"
   ]
  },
  {
   "cell_type": "code",
   "execution_count": 10,
   "metadata": {},
   "outputs": [
    {
     "name": "stdout",
     "output_type": "stream",
     "text": [
      "The NPV of the investment for the equipment is $-12231.90\n"
     ]
    }
   ],
   "source": [
    "print(\"The NPV of the investment for the equipment is \" + \"$\" + \"%.2f\" % NPV)"
   ]
  },
  {
   "cell_type": "code",
   "execution_count": 11,
   "metadata": {},
   "outputs": [],
   "source": [
    "IRR = sp.irr(cashflow)"
   ]
  },
  {
   "cell_type": "code",
   "execution_count": 12,
   "metadata": {},
   "outputs": [
    {
     "name": "stdout",
     "output_type": "stream",
     "text": [
      "The IRR of the investment for the equipment is $-0.07\n"
     ]
    }
   ],
   "source": [
    "print(\"The IRR of the investment for the equipment is \" + \"$\" + \"%.2f\" % IRR)"
   ]
  },
  {
   "cell_type": "code",
   "execution_count": 13,
   "metadata": {},
   "outputs": [],
   "source": [
    "#verify that the calculated irr sets NPV to zero\n",
    "NPV_irr = sp.npv(IRR,cashflow)"
   ]
  },
  {
   "cell_type": "code",
   "execution_count": 14,
   "metadata": {},
   "outputs": [
    {
     "name": "stdout",
     "output_type": "stream",
     "text": [
      "The calculated IRR sets the NPV to  $0.00\n"
     ]
    }
   ],
   "source": [
    "print(\"The calculated IRR sets the NPV to  \" + \"$\" + \"%.2f\" % NPV_irr)"
   ]
  },
  {
   "cell_type": "markdown",
   "metadata": {},
   "source": [
    "No, i would not invest in this project. The NPV is at -12231.90, therefore the cost exceeds the benefits. The IRR is also -0.07 which indicates that the present value of all cash inflows would not be able to cover the cost of capital. \n",
    "\n",
    "Since the project's rate of return will not outweigh its costs, the project should be rejected."
   ]
  },
  {
   "cell_type": "code",
   "execution_count": null,
   "metadata": {},
   "outputs": [],
   "source": []
  }
 ],
 "metadata": {
  "kernelspec": {
   "display_name": "Python 3",
   "language": "python",
   "name": "python3"
  },
  "language_info": {
   "codemirror_mode": {
    "name": "ipython",
    "version": 3
   },
   "file_extension": ".py",
   "mimetype": "text/x-python",
   "name": "python",
   "nbconvert_exporter": "python",
   "pygments_lexer": "ipython3",
   "version": "3.7.9"
  }
 },
 "nbformat": 4,
 "nbformat_minor": 4
}
