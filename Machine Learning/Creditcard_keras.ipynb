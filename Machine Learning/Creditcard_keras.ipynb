{
 "cells": [
  {
   "cell_type": "code",
   "execution_count": 1,
   "metadata": {},
   "outputs": [
    {
     "name": "stderr",
     "output_type": "stream",
     "text": [
      "Using TensorFlow backend.\n"
     ]
    }
   ],
   "source": [
    "##############################################################################################\n",
    "#                                   Import Libraries\n",
    "##############################################################################################\n",
    "from keras.models import Sequential\n",
    "from keras.layers import Dense\n",
    "from keras.wrappers.scikit_learn import KerasClassifier\n",
    "from sklearn.model_selection import StratifiedKFold\n",
    "from sklearn.model_selection import cross_val_score\n",
    "from sklearn.model_selection import GridSearchCV,RandomizedSearchCV\n",
    "from sklearn.model_selection import train_test_split\n",
    "from tensorflow.keras.losses import binary_crossentropy\n",
    "from sklearn.pipeline import Pipeline\n",
    "from sklearn.preprocessing import StandardScaler\n",
    "from keras.optimizers import adam, rmsprop\n",
    "from keras import initializers\n",
    "import numpy\n",
    "import matplotlib.pyplot as plt\n",
    "import pandas as pd\n",
    "import numpy as np\n",
    "import seaborn as sns\n",
    "import matplotlib.image as mpl\n",
    "import scipy\n",
    "import sklearn\n",
    "from sklearn.preprocessing import LabelEncoder\n",
    "from sklearn.model_selection import train_test_split\n",
    "# fix random seed for reproducibility\n",
    "seed = 7\n",
    "numpy.random.seed(seed)"
   ]
  },
  {
   "cell_type": "code",
   "execution_count": 2,
   "metadata": {},
   "outputs": [],
   "source": [
    "# ===========================================================================\n",
    "#                              [Load dataset]\n",
    "# ===========================================================================\n",
    "df = pd.read_excel(r\"C:\\Users\\Ramatu's PC\\Desktop\\430pm\\Creditcard.xlsx\", skiprows = 1)"
   ]
  },
  {
   "cell_type": "code",
   "execution_count": 3,
   "metadata": {},
   "outputs": [
    {
     "data": {
      "text/html": [
       "<div>\n",
       "<style scoped>\n",
       "    .dataframe tbody tr th:only-of-type {\n",
       "        vertical-align: middle;\n",
       "    }\n",
       "\n",
       "    .dataframe tbody tr th {\n",
       "        vertical-align: top;\n",
       "    }\n",
       "\n",
       "    .dataframe thead th {\n",
       "        text-align: right;\n",
       "    }\n",
       "</style>\n",
       "<table border=\"1\" class=\"dataframe\">\n",
       "  <thead>\n",
       "    <tr style=\"text-align: right;\">\n",
       "      <th></th>\n",
       "      <th>LIMIT_BAL</th>\n",
       "      <th>SEX</th>\n",
       "      <th>EDUCATION</th>\n",
       "      <th>MARRIAGE</th>\n",
       "      <th>AGE</th>\n",
       "      <th>PAY_0</th>\n",
       "      <th>PAY_2</th>\n",
       "      <th>PAY_3</th>\n",
       "      <th>PAY_4</th>\n",
       "      <th>PAY_5</th>\n",
       "      <th>...</th>\n",
       "      <th>BILL_AMT4</th>\n",
       "      <th>BILL_AMT5</th>\n",
       "      <th>BILL_AMT6</th>\n",
       "      <th>PAY_AMT1</th>\n",
       "      <th>PAY_AMT2</th>\n",
       "      <th>PAY_AMT3</th>\n",
       "      <th>PAY_AMT4</th>\n",
       "      <th>PAY_AMT5</th>\n",
       "      <th>PAY_AMT6</th>\n",
       "      <th>default payment next month</th>\n",
       "    </tr>\n",
       "  </thead>\n",
       "  <tbody>\n",
       "    <tr>\n",
       "      <th>0</th>\n",
       "      <td>20000</td>\n",
       "      <td>2</td>\n",
       "      <td>2</td>\n",
       "      <td>1</td>\n",
       "      <td>24</td>\n",
       "      <td>2</td>\n",
       "      <td>2</td>\n",
       "      <td>-1</td>\n",
       "      <td>-1</td>\n",
       "      <td>-2</td>\n",
       "      <td>...</td>\n",
       "      <td>0</td>\n",
       "      <td>0</td>\n",
       "      <td>0</td>\n",
       "      <td>0</td>\n",
       "      <td>689</td>\n",
       "      <td>0</td>\n",
       "      <td>0</td>\n",
       "      <td>0</td>\n",
       "      <td>0</td>\n",
       "      <td>1</td>\n",
       "    </tr>\n",
       "    <tr>\n",
       "      <th>1</th>\n",
       "      <td>120000</td>\n",
       "      <td>2</td>\n",
       "      <td>2</td>\n",
       "      <td>2</td>\n",
       "      <td>26</td>\n",
       "      <td>-1</td>\n",
       "      <td>2</td>\n",
       "      <td>0</td>\n",
       "      <td>0</td>\n",
       "      <td>0</td>\n",
       "      <td>...</td>\n",
       "      <td>3272</td>\n",
       "      <td>3455</td>\n",
       "      <td>3261</td>\n",
       "      <td>0</td>\n",
       "      <td>1000</td>\n",
       "      <td>1000</td>\n",
       "      <td>1000</td>\n",
       "      <td>0</td>\n",
       "      <td>2000</td>\n",
       "      <td>1</td>\n",
       "    </tr>\n",
       "    <tr>\n",
       "      <th>2</th>\n",
       "      <td>90000</td>\n",
       "      <td>2</td>\n",
       "      <td>2</td>\n",
       "      <td>2</td>\n",
       "      <td>34</td>\n",
       "      <td>0</td>\n",
       "      <td>0</td>\n",
       "      <td>0</td>\n",
       "      <td>0</td>\n",
       "      <td>0</td>\n",
       "      <td>...</td>\n",
       "      <td>14331</td>\n",
       "      <td>14948</td>\n",
       "      <td>15549</td>\n",
       "      <td>1518</td>\n",
       "      <td>1500</td>\n",
       "      <td>1000</td>\n",
       "      <td>1000</td>\n",
       "      <td>1000</td>\n",
       "      <td>5000</td>\n",
       "      <td>0</td>\n",
       "    </tr>\n",
       "    <tr>\n",
       "      <th>3</th>\n",
       "      <td>50000</td>\n",
       "      <td>2</td>\n",
       "      <td>2</td>\n",
       "      <td>1</td>\n",
       "      <td>37</td>\n",
       "      <td>0</td>\n",
       "      <td>0</td>\n",
       "      <td>0</td>\n",
       "      <td>0</td>\n",
       "      <td>0</td>\n",
       "      <td>...</td>\n",
       "      <td>28314</td>\n",
       "      <td>28959</td>\n",
       "      <td>29547</td>\n",
       "      <td>2000</td>\n",
       "      <td>2019</td>\n",
       "      <td>1200</td>\n",
       "      <td>1100</td>\n",
       "      <td>1069</td>\n",
       "      <td>1000</td>\n",
       "      <td>0</td>\n",
       "    </tr>\n",
       "    <tr>\n",
       "      <th>4</th>\n",
       "      <td>50000</td>\n",
       "      <td>1</td>\n",
       "      <td>2</td>\n",
       "      <td>1</td>\n",
       "      <td>57</td>\n",
       "      <td>-1</td>\n",
       "      <td>0</td>\n",
       "      <td>-1</td>\n",
       "      <td>0</td>\n",
       "      <td>0</td>\n",
       "      <td>...</td>\n",
       "      <td>20940</td>\n",
       "      <td>19146</td>\n",
       "      <td>19131</td>\n",
       "      <td>2000</td>\n",
       "      <td>36681</td>\n",
       "      <td>10000</td>\n",
       "      <td>9000</td>\n",
       "      <td>689</td>\n",
       "      <td>679</td>\n",
       "      <td>0</td>\n",
       "    </tr>\n",
       "  </tbody>\n",
       "</table>\n",
       "<p>5 rows × 24 columns</p>\n",
       "</div>"
      ],
      "text/plain": [
       "   LIMIT_BAL  SEX  EDUCATION  MARRIAGE  AGE  PAY_0  PAY_2  PAY_3  PAY_4  \\\n",
       "0      20000    2          2         1   24      2      2     -1     -1   \n",
       "1     120000    2          2         2   26     -1      2      0      0   \n",
       "2      90000    2          2         2   34      0      0      0      0   \n",
       "3      50000    2          2         1   37      0      0      0      0   \n",
       "4      50000    1          2         1   57     -1      0     -1      0   \n",
       "\n",
       "   PAY_5  ...  BILL_AMT4  BILL_AMT5  BILL_AMT6  PAY_AMT1  PAY_AMT2  PAY_AMT3  \\\n",
       "0     -2  ...          0          0          0         0       689         0   \n",
       "1      0  ...       3272       3455       3261         0      1000      1000   \n",
       "2      0  ...      14331      14948      15549      1518      1500      1000   \n",
       "3      0  ...      28314      28959      29547      2000      2019      1200   \n",
       "4      0  ...      20940      19146      19131      2000     36681     10000   \n",
       "\n",
       "   PAY_AMT4  PAY_AMT5  PAY_AMT6  default payment next month  \n",
       "0         0         0         0                           1  \n",
       "1      1000         0      2000                           1  \n",
       "2      1000      1000      5000                           0  \n",
       "3      1100      1069      1000                           0  \n",
       "4      9000       689       679                           0  \n",
       "\n",
       "[5 rows x 24 columns]"
      ]
     },
     "execution_count": 3,
     "metadata": {},
     "output_type": "execute_result"
    }
   ],
   "source": [
    "# ===========================================================================\n",
    "#                              [DATA CLEANING]\n",
    "# ===========================================================================\n",
    "# drop the ID column\n",
    "df.drop(['ID'], axis=1, inplace = True)\n",
    "\n",
    "#strip() takes out leading and trailing spaces\n",
    "df.columns.str.strip()\n",
    "\n",
    "#View the first five rows\n",
    "df.head()"
   ]
  },
  {
   "cell_type": "code",
   "execution_count": 4,
   "metadata": {},
   "outputs": [
    {
     "name": "stdout",
     "output_type": "stream",
     "text": [
      "Count of data type in dataset\n"
     ]
    },
    {
     "data": {
      "text/plain": [
       "int64    24\n",
       "dtype: int64"
      ]
     },
     "execution_count": 4,
     "metadata": {},
     "output_type": "execute_result"
    }
   ],
   "source": [
    "# ===========================================================================\n",
    "#                              [Explore and Transform Dataset]\n",
    "# ===========================================================================\n",
    "print('Count of data type in dataset')\n",
    "df.get_dtype_counts()\n"
   ]
  },
  {
   "cell_type": "code",
   "execution_count": 5,
   "metadata": {},
   "outputs": [
    {
     "name": "stdout",
     "output_type": "stream",
     "text": [
      "Shape of dataset\n"
     ]
    },
    {
     "data": {
      "text/plain": [
       "(30000, 24)"
      ]
     },
     "execution_count": 5,
     "metadata": {},
     "output_type": "execute_result"
    }
   ],
   "source": [
    "print('Shape of dataset')\n",
    "df.shape"
   ]
  },
  {
   "cell_type": "code",
   "execution_count": 6,
   "metadata": {},
   "outputs": [
    {
     "name": "stdout",
     "output_type": "stream",
     "text": [
      "Check dataset for Null Values\n"
     ]
    },
    {
     "data": {
      "text/plain": [
       "LIMIT_BAL                     0.0\n",
       "SEX                           0.0\n",
       "EDUCATION                     0.0\n",
       "MARRIAGE                      0.0\n",
       "AGE                           0.0\n",
       "PAY_0                         0.0\n",
       "PAY_2                         0.0\n",
       "PAY_3                         0.0\n",
       "PAY_4                         0.0\n",
       "PAY_5                         0.0\n",
       "PAY_6                         0.0\n",
       "BILL_AMT1                     0.0\n",
       "BILL_AMT2                     0.0\n",
       "BILL_AMT3                     0.0\n",
       "BILL_AMT4                     0.0\n",
       "BILL_AMT5                     0.0\n",
       "BILL_AMT6                     0.0\n",
       "PAY_AMT1                      0.0\n",
       "PAY_AMT2                      0.0\n",
       "PAY_AMT3                      0.0\n",
       "PAY_AMT4                      0.0\n",
       "PAY_AMT5                      0.0\n",
       "PAY_AMT6                      0.0\n",
       "default payment next month    0.0\n",
       "dtype: float64"
      ]
     },
     "execution_count": 6,
     "metadata": {},
     "output_type": "execute_result"
    }
   ],
   "source": [
    "print('Check dataset for Null Values')\n",
    "df.isnull().sum() / df.shape[0] \n"
   ]
  },
  {
   "cell_type": "code",
   "execution_count": 7,
   "metadata": {},
   "outputs": [
    {
     "name": "stdout",
     "output_type": "stream",
     "text": [
      "Get Dataset information\n",
      "<class 'pandas.core.frame.DataFrame'>\n",
      "RangeIndex: 30000 entries, 0 to 29999\n",
      "Data columns (total 24 columns):\n",
      "LIMIT_BAL                     30000 non-null int64\n",
      "SEX                           30000 non-null int64\n",
      "EDUCATION                     30000 non-null int64\n",
      "MARRIAGE                      30000 non-null int64\n",
      "AGE                           30000 non-null int64\n",
      "PAY_0                         30000 non-null int64\n",
      "PAY_2                         30000 non-null int64\n",
      "PAY_3                         30000 non-null int64\n",
      "PAY_4                         30000 non-null int64\n",
      "PAY_5                         30000 non-null int64\n",
      "PAY_6                         30000 non-null int64\n",
      "BILL_AMT1                     30000 non-null int64\n",
      "BILL_AMT2                     30000 non-null int64\n",
      "BILL_AMT3                     30000 non-null int64\n",
      "BILL_AMT4                     30000 non-null int64\n",
      "BILL_AMT5                     30000 non-null int64\n",
      "BILL_AMT6                     30000 non-null int64\n",
      "PAY_AMT1                      30000 non-null int64\n",
      "PAY_AMT2                      30000 non-null int64\n",
      "PAY_AMT3                      30000 non-null int64\n",
      "PAY_AMT4                      30000 non-null int64\n",
      "PAY_AMT5                      30000 non-null int64\n",
      "PAY_AMT6                      30000 non-null int64\n",
      "default payment next month    30000 non-null int64\n",
      "dtypes: int64(24)\n",
      "memory usage: 5.5 MB\n"
     ]
    }
   ],
   "source": [
    "print('Get Dataset information')\n",
    "df.info()\n",
    "  "
   ]
  },
  {
   "cell_type": "code",
   "execution_count": 8,
   "metadata": {},
   "outputs": [
    {
     "name": "stdout",
     "output_type": "stream",
     "text": [
      "Get the values count of the binary column\n"
     ]
    },
    {
     "data": {
      "text/plain": [
       "0    23364\n",
       "1     6636\n",
       "Name: default payment next month, dtype: int64"
      ]
     },
     "execution_count": 8,
     "metadata": {},
     "output_type": "execute_result"
    }
   ],
   "source": [
    "print('Get the values count of the binary column')\n",
    "df[\"default payment next month\"].value_counts() # 1 is default"
   ]
  },
  {
   "cell_type": "code",
   "execution_count": 9,
   "metadata": {},
   "outputs": [],
   "source": [
    "# Rename sex and limit_bal columns\n",
    "df.rename(columns={\"SEX\":\"GENDER\", \"LIMIT_BAL\":\"CREDIT LIMIT(NT$)\", 'default payment next month': 'Default'}, inplace=True)"
   ]
  },
  {
   "cell_type": "code",
   "execution_count": 10,
   "metadata": {
    "colab": {},
    "colab_type": "code",
    "id": "oOIqBBIQonXA"
   },
   "outputs": [],
   "source": [
    "# Custom function to decode my daaset, specifically pay_0 to pay_6 ----- See markdown cell for column header meaning\n",
    "\n",
    "def decoder(value):\n",
    "    if value > 0 :\n",
    "        return 1\n",
    "    else :\n",
    "        return 0"
   ]
  },
  {
   "cell_type": "code",
   "execution_count": 11,
   "metadata": {
    "colab": {
     "base_uri": "https://localhost:8080/",
     "height": 456
    },
    "colab_type": "code",
    "id": "7FvfmNqVpToF",
    "outputId": "d5b832d8-afe0-4d95-c584-b8bdb95c0f3e"
   },
   "outputs": [
    {
     "data": {
      "text/html": [
       "<div>\n",
       "<style scoped>\n",
       "    .dataframe tbody tr th:only-of-type {\n",
       "        vertical-align: middle;\n",
       "    }\n",
       "\n",
       "    .dataframe tbody tr th {\n",
       "        vertical-align: top;\n",
       "    }\n",
       "\n",
       "    .dataframe thead th {\n",
       "        text-align: right;\n",
       "    }\n",
       "</style>\n",
       "<table border=\"1\" class=\"dataframe\">\n",
       "  <thead>\n",
       "    <tr style=\"text-align: right;\">\n",
       "      <th></th>\n",
       "      <th>CREDIT LIMIT(NT$)</th>\n",
       "      <th>GENDER</th>\n",
       "      <th>EDUCATION</th>\n",
       "      <th>MARRIAGE</th>\n",
       "      <th>AGE</th>\n",
       "      <th>PAY_0</th>\n",
       "      <th>PAY_2</th>\n",
       "      <th>PAY_3</th>\n",
       "      <th>PAY_4</th>\n",
       "      <th>PAY_5</th>\n",
       "      <th>...</th>\n",
       "      <th>BILL_AMT4</th>\n",
       "      <th>BILL_AMT5</th>\n",
       "      <th>BILL_AMT6</th>\n",
       "      <th>PAY_AMT1</th>\n",
       "      <th>PAY_AMT2</th>\n",
       "      <th>PAY_AMT3</th>\n",
       "      <th>PAY_AMT4</th>\n",
       "      <th>PAY_AMT5</th>\n",
       "      <th>PAY_AMT6</th>\n",
       "      <th>Default</th>\n",
       "    </tr>\n",
       "  </thead>\n",
       "  <tbody>\n",
       "    <tr>\n",
       "      <th>0</th>\n",
       "      <td>20000</td>\n",
       "      <td>2</td>\n",
       "      <td>2</td>\n",
       "      <td>1</td>\n",
       "      <td>24</td>\n",
       "      <td>2</td>\n",
       "      <td>2</td>\n",
       "      <td>-1</td>\n",
       "      <td>-1</td>\n",
       "      <td>-2</td>\n",
       "      <td>...</td>\n",
       "      <td>0</td>\n",
       "      <td>0</td>\n",
       "      <td>0</td>\n",
       "      <td>0</td>\n",
       "      <td>689</td>\n",
       "      <td>0</td>\n",
       "      <td>0</td>\n",
       "      <td>0</td>\n",
       "      <td>0</td>\n",
       "      <td>1</td>\n",
       "    </tr>\n",
       "    <tr>\n",
       "      <th>1</th>\n",
       "      <td>120000</td>\n",
       "      <td>2</td>\n",
       "      <td>2</td>\n",
       "      <td>2</td>\n",
       "      <td>26</td>\n",
       "      <td>-1</td>\n",
       "      <td>2</td>\n",
       "      <td>0</td>\n",
       "      <td>0</td>\n",
       "      <td>0</td>\n",
       "      <td>...</td>\n",
       "      <td>3272</td>\n",
       "      <td>3455</td>\n",
       "      <td>3261</td>\n",
       "      <td>0</td>\n",
       "      <td>1000</td>\n",
       "      <td>1000</td>\n",
       "      <td>1000</td>\n",
       "      <td>0</td>\n",
       "      <td>2000</td>\n",
       "      <td>1</td>\n",
       "    </tr>\n",
       "    <tr>\n",
       "      <th>2</th>\n",
       "      <td>90000</td>\n",
       "      <td>2</td>\n",
       "      <td>2</td>\n",
       "      <td>2</td>\n",
       "      <td>34</td>\n",
       "      <td>0</td>\n",
       "      <td>0</td>\n",
       "      <td>0</td>\n",
       "      <td>0</td>\n",
       "      <td>0</td>\n",
       "      <td>...</td>\n",
       "      <td>14331</td>\n",
       "      <td>14948</td>\n",
       "      <td>15549</td>\n",
       "      <td>1518</td>\n",
       "      <td>1500</td>\n",
       "      <td>1000</td>\n",
       "      <td>1000</td>\n",
       "      <td>1000</td>\n",
       "      <td>5000</td>\n",
       "      <td>0</td>\n",
       "    </tr>\n",
       "    <tr>\n",
       "      <th>3</th>\n",
       "      <td>50000</td>\n",
       "      <td>2</td>\n",
       "      <td>2</td>\n",
       "      <td>1</td>\n",
       "      <td>37</td>\n",
       "      <td>0</td>\n",
       "      <td>0</td>\n",
       "      <td>0</td>\n",
       "      <td>0</td>\n",
       "      <td>0</td>\n",
       "      <td>...</td>\n",
       "      <td>28314</td>\n",
       "      <td>28959</td>\n",
       "      <td>29547</td>\n",
       "      <td>2000</td>\n",
       "      <td>2019</td>\n",
       "      <td>1200</td>\n",
       "      <td>1100</td>\n",
       "      <td>1069</td>\n",
       "      <td>1000</td>\n",
       "      <td>0</td>\n",
       "    </tr>\n",
       "    <tr>\n",
       "      <th>4</th>\n",
       "      <td>50000</td>\n",
       "      <td>1</td>\n",
       "      <td>2</td>\n",
       "      <td>1</td>\n",
       "      <td>57</td>\n",
       "      <td>-1</td>\n",
       "      <td>0</td>\n",
       "      <td>-1</td>\n",
       "      <td>0</td>\n",
       "      <td>0</td>\n",
       "      <td>...</td>\n",
       "      <td>20940</td>\n",
       "      <td>19146</td>\n",
       "      <td>19131</td>\n",
       "      <td>2000</td>\n",
       "      <td>36681</td>\n",
       "      <td>10000</td>\n",
       "      <td>9000</td>\n",
       "      <td>689</td>\n",
       "      <td>679</td>\n",
       "      <td>0</td>\n",
       "    </tr>\n",
       "  </tbody>\n",
       "</table>\n",
       "<p>5 rows × 25 columns</p>\n",
       "</div>"
      ],
      "text/plain": [
       "   CREDIT LIMIT(NT$)  GENDER  EDUCATION  MARRIAGE  AGE  PAY_0  PAY_2  PAY_3  \\\n",
       "0              20000       2          2         1   24      2      2     -1   \n",
       "1             120000       2          2         2   26     -1      2      0   \n",
       "2              90000       2          2         2   34      0      0      0   \n",
       "3              50000       2          2         1   37      0      0      0   \n",
       "4              50000       1          2         1   57     -1      0     -1   \n",
       "\n",
       "   PAY_4  PAY_5  ...  BILL_AMT4  BILL_AMT5  BILL_AMT6  PAY_AMT1  PAY_AMT2  \\\n",
       "0     -1     -2  ...          0          0          0         0       689   \n",
       "1      0      0  ...       3272       3455       3261         0      1000   \n",
       "2      0      0  ...      14331      14948      15549      1518      1500   \n",
       "3      0      0  ...      28314      28959      29547      2000      2019   \n",
       "4      0      0  ...      20940      19146      19131      2000     36681   \n",
       "\n",
       "   PAY_AMT3  PAY_AMT4  PAY_AMT5  PAY_AMT6  Default  \n",
       "0         0         0         0         0        1  \n",
       "1      1000      1000         0      2000        1  \n",
       "2      1000      1000      1000      5000        0  \n",
       "3      1200      1100      1069      1000        0  \n",
       "4     10000      9000       689       679        0  \n",
       "\n",
       "[5 rows x 25 columns]"
      ]
     },
     "execution_count": 11,
     "metadata": {},
     "output_type": "execute_result"
    }
   ],
   "source": [
    "#this cell applies my custom function to my dataset (pay_0 to Pay_6)\n",
    "# then it creates a transformed column that tells you how many late payments the customer has made\n",
    "late_payments = df.loc[:,   'PAY_0':'PAY_6'].applymap(decoder).sum(axis=1)\n",
    "df.insert(11,'Late Payments' ,late_payments )\n",
    "df.head()"
   ]
  },
  {
   "cell_type": "code",
   "execution_count": 12,
   "metadata": {
    "colab": {
     "base_uri": "https://localhost:8080/",
     "height": 34
    },
    "colab_type": "code",
    "id": "BHtKOcib1rQa",
    "outputId": "9bbeddfa-66bd-4237-86e1-d49dbbef7e7a"
   },
   "outputs": [
    {
     "data": {
      "text/plain": [
       "array([2, 1], dtype=int64)"
      ]
     },
     "execution_count": 12,
     "metadata": {},
     "output_type": "execute_result"
    }
   ],
   "source": [
    "df['GENDER'].unique() # Unique values in the sex column"
   ]
  },
  {
   "cell_type": "code",
   "execution_count": 13,
   "metadata": {
    "colab": {
     "base_uri": "https://localhost:8080/",
     "height": 34
    },
    "colab_type": "code",
    "id": "iexedu4yGVja",
    "outputId": "a792a622-8154-4eec-eed0-5c755fdbd2c4"
   },
   "outputs": [
    {
     "data": {
      "text/plain": [
       "array([2, 1, 3, 5, 4, 6, 0], dtype=int64)"
      ]
     },
     "execution_count": 13,
     "metadata": {},
     "output_type": "execute_result"
    }
   ],
   "source": [
    "df['EDUCATION'].unique() # Unique values in the sex column"
   ]
  },
  {
   "cell_type": "code",
   "execution_count": 14,
   "metadata": {
    "colab": {},
    "colab_type": "code",
    "id": "I2kejmX1G3YP"
   },
   "outputs": [],
   "source": [
    "# 4,6, and 0 all represents other. \n",
    "# Hence, replace all three (5,6,0) with 4\n",
    "df['EDUCATION']=np.where(df['EDUCATION'] == 5, 4, df['EDUCATION'])\n",
    "df['EDUCATION']=np.where(df['EDUCATION'] == 6, 4, df['EDUCATION'])\n",
    "df['EDUCATION']=np.where(df['EDUCATION'] == 0, 4, df['EDUCATION'])\n"
   ]
  },
  {
   "cell_type": "code",
   "execution_count": 15,
   "metadata": {
    "colab": {
     "base_uri": "https://localhost:8080/",
     "height": 34
    },
    "colab_type": "code",
    "id": "RC3JGCdMGf5i",
    "outputId": "bf3c37c4-896c-455a-aa39-15b7dd9cee9d"
   },
   "outputs": [
    {
     "data": {
      "text/plain": [
       "array([1, 2, 3, 0], dtype=int64)"
      ]
     },
     "execution_count": 15,
     "metadata": {},
     "output_type": "execute_result"
    }
   ],
   "source": [
    "df['MARRIAGE'].unique() # Unique values in the marriage column"
   ]
  },
  {
   "cell_type": "code",
   "execution_count": 16,
   "metadata": {
    "colab": {},
    "colab_type": "code",
    "id": "EAfUKfDINL5J"
   },
   "outputs": [],
   "source": [
    "# 3 and 0 represent other. \n",
    "# Hence, replace 0 with 3 for other\n",
    "df['MARRIAGE']=np.where(df['MARRIAGE'] == 0, 3, df['MARRIAGE'])"
   ]
  },
  {
   "cell_type": "code",
   "execution_count": 17,
   "metadata": {
    "colab": {
     "base_uri": "https://localhost:8080/",
     "height": 34
    },
    "colab_type": "code",
    "id": "04jZZraLLtc7",
    "outputId": "285d4bbc-8c7c-4c88-993a-9a73b9f3509e"
   },
   "outputs": [
    {
     "data": {
      "text/plain": [
       "array([1, 0], dtype=int64)"
      ]
     },
     "execution_count": 17,
     "metadata": {},
     "output_type": "execute_result"
    }
   ],
   "source": [
    "df['Default'].unique()"
   ]
  },
  {
   "cell_type": "code",
   "execution_count": 18,
   "metadata": {
    "colab": {
     "base_uri": "https://localhost:8080/",
     "height": 334
    },
    "colab_type": "code",
    "id": "f_NBHBYWOLXb",
    "outputId": "e430fd33-5951-44cf-8bcd-ee2883e7b62b"
   },
   "outputs": [
    {
     "name": "stdout",
     "output_type": "stream",
     "text": [
      "Statistical description of Select columns in the dataframe\n"
     ]
    },
    {
     "data": {
      "text/html": [
       "<div>\n",
       "<style scoped>\n",
       "    .dataframe tbody tr th:only-of-type {\n",
       "        vertical-align: middle;\n",
       "    }\n",
       "\n",
       "    .dataframe tbody tr th {\n",
       "        vertical-align: top;\n",
       "    }\n",
       "\n",
       "    .dataframe thead th {\n",
       "        text-align: right;\n",
       "    }\n",
       "</style>\n",
       "<table border=\"1\" class=\"dataframe\">\n",
       "  <thead>\n",
       "    <tr style=\"text-align: right;\">\n",
       "      <th></th>\n",
       "      <th>CREDIT LIMIT(NT$)</th>\n",
       "      <th>AGE</th>\n",
       "      <th>BILL_AMT1</th>\n",
       "      <th>BILL_AMT2</th>\n",
       "      <th>BILL_AMT3</th>\n",
       "      <th>BILL_AMT4</th>\n",
       "      <th>BILL_AMT5</th>\n",
       "      <th>BILL_AMT6</th>\n",
       "      <th>PAY_AMT1</th>\n",
       "      <th>PAY_AMT2</th>\n",
       "      <th>PAY_AMT3</th>\n",
       "      <th>PAY_AMT4</th>\n",
       "      <th>PAY_AMT5</th>\n",
       "      <th>PAY_AMT6</th>\n",
       "    </tr>\n",
       "  </thead>\n",
       "  <tbody>\n",
       "    <tr>\n",
       "      <th>count</th>\n",
       "      <td>30000.000000</td>\n",
       "      <td>30000.000000</td>\n",
       "      <td>30000.000000</td>\n",
       "      <td>30000.000000</td>\n",
       "      <td>3.000000e+04</td>\n",
       "      <td>30000.000000</td>\n",
       "      <td>30000.000000</td>\n",
       "      <td>30000.000000</td>\n",
       "      <td>30000.000000</td>\n",
       "      <td>3.000000e+04</td>\n",
       "      <td>30000.00000</td>\n",
       "      <td>30000.000000</td>\n",
       "      <td>30000.000000</td>\n",
       "      <td>30000.000000</td>\n",
       "    </tr>\n",
       "    <tr>\n",
       "      <th>mean</th>\n",
       "      <td>167484.322667</td>\n",
       "      <td>35.485500</td>\n",
       "      <td>51223.330900</td>\n",
       "      <td>49179.075167</td>\n",
       "      <td>4.701315e+04</td>\n",
       "      <td>43262.948967</td>\n",
       "      <td>40311.400967</td>\n",
       "      <td>38871.760400</td>\n",
       "      <td>5663.580500</td>\n",
       "      <td>5.921163e+03</td>\n",
       "      <td>5225.68150</td>\n",
       "      <td>4826.076867</td>\n",
       "      <td>4799.387633</td>\n",
       "      <td>5215.502567</td>\n",
       "    </tr>\n",
       "    <tr>\n",
       "      <th>std</th>\n",
       "      <td>129747.661567</td>\n",
       "      <td>9.217904</td>\n",
       "      <td>73635.860576</td>\n",
       "      <td>71173.768783</td>\n",
       "      <td>6.934939e+04</td>\n",
       "      <td>64332.856134</td>\n",
       "      <td>60797.155770</td>\n",
       "      <td>59554.107537</td>\n",
       "      <td>16563.280354</td>\n",
       "      <td>2.304087e+04</td>\n",
       "      <td>17606.96147</td>\n",
       "      <td>15666.159744</td>\n",
       "      <td>15278.305679</td>\n",
       "      <td>17777.465775</td>\n",
       "    </tr>\n",
       "    <tr>\n",
       "      <th>min</th>\n",
       "      <td>10000.000000</td>\n",
       "      <td>21.000000</td>\n",
       "      <td>-165580.000000</td>\n",
       "      <td>-69777.000000</td>\n",
       "      <td>-1.572640e+05</td>\n",
       "      <td>-170000.000000</td>\n",
       "      <td>-81334.000000</td>\n",
       "      <td>-339603.000000</td>\n",
       "      <td>0.000000</td>\n",
       "      <td>0.000000e+00</td>\n",
       "      <td>0.00000</td>\n",
       "      <td>0.000000</td>\n",
       "      <td>0.000000</td>\n",
       "      <td>0.000000</td>\n",
       "    </tr>\n",
       "    <tr>\n",
       "      <th>25%</th>\n",
       "      <td>50000.000000</td>\n",
       "      <td>28.000000</td>\n",
       "      <td>3558.750000</td>\n",
       "      <td>2984.750000</td>\n",
       "      <td>2.666250e+03</td>\n",
       "      <td>2326.750000</td>\n",
       "      <td>1763.000000</td>\n",
       "      <td>1256.000000</td>\n",
       "      <td>1000.000000</td>\n",
       "      <td>8.330000e+02</td>\n",
       "      <td>390.00000</td>\n",
       "      <td>296.000000</td>\n",
       "      <td>252.500000</td>\n",
       "      <td>117.750000</td>\n",
       "    </tr>\n",
       "    <tr>\n",
       "      <th>50%</th>\n",
       "      <td>140000.000000</td>\n",
       "      <td>34.000000</td>\n",
       "      <td>22381.500000</td>\n",
       "      <td>21200.000000</td>\n",
       "      <td>2.008850e+04</td>\n",
       "      <td>19052.000000</td>\n",
       "      <td>18104.500000</td>\n",
       "      <td>17071.000000</td>\n",
       "      <td>2100.000000</td>\n",
       "      <td>2.009000e+03</td>\n",
       "      <td>1800.00000</td>\n",
       "      <td>1500.000000</td>\n",
       "      <td>1500.000000</td>\n",
       "      <td>1500.000000</td>\n",
       "    </tr>\n",
       "    <tr>\n",
       "      <th>75%</th>\n",
       "      <td>240000.000000</td>\n",
       "      <td>41.000000</td>\n",
       "      <td>67091.000000</td>\n",
       "      <td>64006.250000</td>\n",
       "      <td>6.016475e+04</td>\n",
       "      <td>54506.000000</td>\n",
       "      <td>50190.500000</td>\n",
       "      <td>49198.250000</td>\n",
       "      <td>5006.000000</td>\n",
       "      <td>5.000000e+03</td>\n",
       "      <td>4505.00000</td>\n",
       "      <td>4013.250000</td>\n",
       "      <td>4031.500000</td>\n",
       "      <td>4000.000000</td>\n",
       "    </tr>\n",
       "    <tr>\n",
       "      <th>max</th>\n",
       "      <td>1000000.000000</td>\n",
       "      <td>79.000000</td>\n",
       "      <td>964511.000000</td>\n",
       "      <td>983931.000000</td>\n",
       "      <td>1.664089e+06</td>\n",
       "      <td>891586.000000</td>\n",
       "      <td>927171.000000</td>\n",
       "      <td>961664.000000</td>\n",
       "      <td>873552.000000</td>\n",
       "      <td>1.684259e+06</td>\n",
       "      <td>896040.00000</td>\n",
       "      <td>621000.000000</td>\n",
       "      <td>426529.000000</td>\n",
       "      <td>528666.000000</td>\n",
       "    </tr>\n",
       "  </tbody>\n",
       "</table>\n",
       "</div>"
      ],
      "text/plain": [
       "       CREDIT LIMIT(NT$)           AGE      BILL_AMT1      BILL_AMT2  \\\n",
       "count       30000.000000  30000.000000   30000.000000   30000.000000   \n",
       "mean       167484.322667     35.485500   51223.330900   49179.075167   \n",
       "std        129747.661567      9.217904   73635.860576   71173.768783   \n",
       "min         10000.000000     21.000000 -165580.000000  -69777.000000   \n",
       "25%         50000.000000     28.000000    3558.750000    2984.750000   \n",
       "50%        140000.000000     34.000000   22381.500000   21200.000000   \n",
       "75%        240000.000000     41.000000   67091.000000   64006.250000   \n",
       "max       1000000.000000     79.000000  964511.000000  983931.000000   \n",
       "\n",
       "          BILL_AMT3      BILL_AMT4      BILL_AMT5      BILL_AMT6  \\\n",
       "count  3.000000e+04   30000.000000   30000.000000   30000.000000   \n",
       "mean   4.701315e+04   43262.948967   40311.400967   38871.760400   \n",
       "std    6.934939e+04   64332.856134   60797.155770   59554.107537   \n",
       "min   -1.572640e+05 -170000.000000  -81334.000000 -339603.000000   \n",
       "25%    2.666250e+03    2326.750000    1763.000000    1256.000000   \n",
       "50%    2.008850e+04   19052.000000   18104.500000   17071.000000   \n",
       "75%    6.016475e+04   54506.000000   50190.500000   49198.250000   \n",
       "max    1.664089e+06  891586.000000  927171.000000  961664.000000   \n",
       "\n",
       "            PAY_AMT1      PAY_AMT2      PAY_AMT3       PAY_AMT4  \\\n",
       "count   30000.000000  3.000000e+04   30000.00000   30000.000000   \n",
       "mean     5663.580500  5.921163e+03    5225.68150    4826.076867   \n",
       "std     16563.280354  2.304087e+04   17606.96147   15666.159744   \n",
       "min         0.000000  0.000000e+00       0.00000       0.000000   \n",
       "25%      1000.000000  8.330000e+02     390.00000     296.000000   \n",
       "50%      2100.000000  2.009000e+03    1800.00000    1500.000000   \n",
       "75%      5006.000000  5.000000e+03    4505.00000    4013.250000   \n",
       "max    873552.000000  1.684259e+06  896040.00000  621000.000000   \n",
       "\n",
       "            PAY_AMT5       PAY_AMT6  \n",
       "count   30000.000000   30000.000000  \n",
       "mean     4799.387633    5215.502567  \n",
       "std     15278.305679   17777.465775  \n",
       "min         0.000000       0.000000  \n",
       "25%       252.500000     117.750000  \n",
       "50%      1500.000000    1500.000000  \n",
       "75%      4031.500000    4000.000000  \n",
       "max    426529.000000  528666.000000  "
      ]
     },
     "execution_count": 18,
     "metadata": {},
     "output_type": "execute_result"
    }
   ],
   "source": [
    "print('Statistical description of Select columns in the dataframe')\n",
    "# Applying the describe method to a subset of our dataframe\n",
    "# list of columns to include \n",
    "sub_df = df[['CREDIT LIMIT(NT$)', 'AGE','BILL_AMT1', 'BILL_AMT2', 'BILL_AMT3', 'BILL_AMT4', 'BILL_AMT5', 'BILL_AMT6',\n",
    "'PAY_AMT1', 'PAY_AMT2','PAY_AMT3','PAY_AMT4','PAY_AMT5','PAY_AMT6']]\n",
    "sub_df.describe()"
   ]
  },
  {
   "cell_type": "code",
   "execution_count": 19,
   "metadata": {},
   "outputs": [
    {
     "name": "stdout",
     "output_type": "stream",
     "text": [
      "--------------- Split-out dataset [Done]\n"
     ]
    }
   ],
   "source": [
    "# ===========================================================================\n",
    "#                              [Predictive Analysis]\n",
    "# ===========================================================================\n",
    "# Seperate the y from the x columns\n",
    "X = df.drop('Default',axis=1)\n",
    "Y = df['Default']\n",
    "\n",
    "from sklearn.model_selection import train_test_split\n",
    "X_train, X_validation, y_train, y_validation = train_test_split(X, Y, test_size=0.25, random_state=1)\n",
    "print('--------------- Split-out dataset [Done]')"
   ]
  },
  {
   "cell_type": "markdown",
   "metadata": {},
   "source": [
    "Feature Selection"
   ]
  },
  {
   "cell_type": "code",
   "execution_count": 20,
   "metadata": {},
   "outputs": [
    {
     "name": "stdout",
     "output_type": "stream",
     "text": [
      "15 selected features\n"
     ]
    }
   ],
   "source": [
    "#Feature Selection ---------Method 1----------\n",
    "#filter based method ----CHI SQUARED----------\n",
    "\n",
    "from sklearn.ensemble import ExtraTreesClassifier\n",
    "from sklearn.feature_selection import SelectFromModel\n",
    "from sklearn.model_selection import cross_val_score\n",
    "from sklearn.feature_selection import SelectKBest\n",
    "from sklearn.feature_selection import  chi2\n",
    "from sklearn.preprocessing import MinMaxScaler\n",
    "\n",
    "X_norm = MinMaxScaler().fit_transform(X)\n",
    "chi_selector = SelectKBest(chi2, k = 15) # default is k=10 but i want top 16\n",
    "chi_selector.fit(X_norm, Y)\n",
    "chi_support = chi_selector.get_support()\n",
    "chi_feature = X.loc[:,chi_support].columns.tolist()\n",
    "print(str(len(chi_feature)), 'selected features')\n"
   ]
  },
  {
   "cell_type": "code",
   "execution_count": 21,
   "metadata": {},
   "outputs": [
    {
     "name": "stdout",
     "output_type": "stream",
     "text": [
      "Fitting estimator with 24 features.\n",
      "15 selected features\n"
     ]
    }
   ],
   "source": [
    "#Feature Selection -------------------Method 2--------------------\n",
    "#wrapper based method ----Reccursive feature elimination----------\n",
    "\n",
    "import warnings\n",
    "from sklearn.feature_selection import RFE\n",
    "from sklearn.linear_model import LogisticRegression\n",
    "from sklearn.exceptions import ConvergenceWarning\n",
    "warnings.filterwarnings('ignore', category = ConvergenceWarning)\n",
    "rfe_selector = RFE(estimator=LogisticRegression(solver='lbfgs'), n_features_to_select=15, step=10, verbose=5)\n",
    "rfe_selector.fit(X_norm, Y)\n",
    "rfe_support = rfe_selector.get_support()\n",
    "rfe_feature = X.loc[:,rfe_support].columns.tolist()\n",
    "print(str(len(rfe_feature)), 'selected features')"
   ]
  },
  {
   "cell_type": "code",
   "execution_count": 22,
   "metadata": {},
   "outputs": [
    {
     "name": "stdout",
     "output_type": "stream",
     "text": [
      "9 selected features\n"
     ]
    }
   ],
   "source": [
    "#Feature Selection -------------------Method 3--------------------\n",
    "#embedded method --------------lasso :selectFromModel-------------\n",
    "import warnings\n",
    "from sklearn.feature_selection import SelectFromModel\n",
    "from sklearn.linear_model import LogisticRegression\n",
    "\n",
    "embeded_lr_selector = SelectFromModel(estimator = LogisticRegression(penalty=\"l2\",solver='lbfgs'), max_features=18)\n",
    "embeded_lr_selector.fit(X_norm, Y)\n",
    "\n",
    "embeded_lr_support = embeded_lr_selector.get_support()\n",
    "embeded_lr_feature = X.loc[:,embeded_lr_support].columns.tolist()\n",
    "print(str(len(embeded_lr_feature)), 'selected features')"
   ]
  },
  {
   "cell_type": "code",
   "execution_count": 23,
   "metadata": {},
   "outputs": [
    {
     "data": {
      "text/html": [
       "<div>\n",
       "<style scoped>\n",
       "    .dataframe tbody tr th:only-of-type {\n",
       "        vertical-align: middle;\n",
       "    }\n",
       "\n",
       "    .dataframe tbody tr th {\n",
       "        vertical-align: top;\n",
       "    }\n",
       "\n",
       "    .dataframe thead th {\n",
       "        text-align: right;\n",
       "    }\n",
       "</style>\n",
       "<table border=\"1\" class=\"dataframe\">\n",
       "  <thead>\n",
       "    <tr style=\"text-align: right;\">\n",
       "      <th></th>\n",
       "      <th>Feature</th>\n",
       "      <th>Chi-2</th>\n",
       "      <th>RFE</th>\n",
       "      <th>Logistics</th>\n",
       "      <th>Total</th>\n",
       "    </tr>\n",
       "  </thead>\n",
       "  <tbody>\n",
       "    <tr>\n",
       "      <th>1</th>\n",
       "      <td>PAY_AMT6</td>\n",
       "      <td>True</td>\n",
       "      <td>True</td>\n",
       "      <td>True</td>\n",
       "      <td>3</td>\n",
       "    </tr>\n",
       "    <tr>\n",
       "      <th>2</th>\n",
       "      <td>PAY_AMT4</td>\n",
       "      <td>True</td>\n",
       "      <td>True</td>\n",
       "      <td>True</td>\n",
       "      <td>3</td>\n",
       "    </tr>\n",
       "    <tr>\n",
       "      <th>3</th>\n",
       "      <td>PAY_AMT3</td>\n",
       "      <td>True</td>\n",
       "      <td>True</td>\n",
       "      <td>True</td>\n",
       "      <td>3</td>\n",
       "    </tr>\n",
       "    <tr>\n",
       "      <th>4</th>\n",
       "      <td>PAY_AMT1</td>\n",
       "      <td>True</td>\n",
       "      <td>True</td>\n",
       "      <td>True</td>\n",
       "      <td>3</td>\n",
       "    </tr>\n",
       "    <tr>\n",
       "      <th>5</th>\n",
       "      <td>PAY_0</td>\n",
       "      <td>True</td>\n",
       "      <td>True</td>\n",
       "      <td>True</td>\n",
       "      <td>3</td>\n",
       "    </tr>\n",
       "    <tr>\n",
       "      <th>6</th>\n",
       "      <td>Late Payments</td>\n",
       "      <td>True</td>\n",
       "      <td>True</td>\n",
       "      <td>True</td>\n",
       "      <td>3</td>\n",
       "    </tr>\n",
       "    <tr>\n",
       "      <th>7</th>\n",
       "      <td>CREDIT LIMIT(NT$)</td>\n",
       "      <td>True</td>\n",
       "      <td>True</td>\n",
       "      <td>True</td>\n",
       "      <td>3</td>\n",
       "    </tr>\n",
       "    <tr>\n",
       "      <th>8</th>\n",
       "      <td>PAY_AMT5</td>\n",
       "      <td>True</td>\n",
       "      <td>True</td>\n",
       "      <td>False</td>\n",
       "      <td>2</td>\n",
       "    </tr>\n",
       "    <tr>\n",
       "      <th>9</th>\n",
       "      <td>PAY_AMT2</td>\n",
       "      <td>False</td>\n",
       "      <td>True</td>\n",
       "      <td>True</td>\n",
       "      <td>2</td>\n",
       "    </tr>\n",
       "    <tr>\n",
       "      <th>10</th>\n",
       "      <td>PAY_6</td>\n",
       "      <td>True</td>\n",
       "      <td>True</td>\n",
       "      <td>False</td>\n",
       "      <td>2</td>\n",
       "    </tr>\n",
       "    <tr>\n",
       "      <th>11</th>\n",
       "      <td>PAY_5</td>\n",
       "      <td>True</td>\n",
       "      <td>True</td>\n",
       "      <td>False</td>\n",
       "      <td>2</td>\n",
       "    </tr>\n",
       "    <tr>\n",
       "      <th>12</th>\n",
       "      <td>PAY_4</td>\n",
       "      <td>True</td>\n",
       "      <td>True</td>\n",
       "      <td>False</td>\n",
       "      <td>2</td>\n",
       "    </tr>\n",
       "    <tr>\n",
       "      <th>13</th>\n",
       "      <td>PAY_3</td>\n",
       "      <td>True</td>\n",
       "      <td>True</td>\n",
       "      <td>False</td>\n",
       "      <td>2</td>\n",
       "    </tr>\n",
       "    <tr>\n",
       "      <th>14</th>\n",
       "      <td>PAY_2</td>\n",
       "      <td>True</td>\n",
       "      <td>True</td>\n",
       "      <td>False</td>\n",
       "      <td>2</td>\n",
       "    </tr>\n",
       "    <tr>\n",
       "      <th>15</th>\n",
       "      <td>BILL_AMT2</td>\n",
       "      <td>False</td>\n",
       "      <td>True</td>\n",
       "      <td>True</td>\n",
       "      <td>2</td>\n",
       "    </tr>\n",
       "    <tr>\n",
       "      <th>16</th>\n",
       "      <td>GENDER</td>\n",
       "      <td>True</td>\n",
       "      <td>False</td>\n",
       "      <td>False</td>\n",
       "      <td>1</td>\n",
       "    </tr>\n",
       "    <tr>\n",
       "      <th>17</th>\n",
       "      <td>EDUCATION</td>\n",
       "      <td>True</td>\n",
       "      <td>False</td>\n",
       "      <td>False</td>\n",
       "      <td>1</td>\n",
       "    </tr>\n",
       "    <tr>\n",
       "      <th>18</th>\n",
       "      <td>MARRIAGE</td>\n",
       "      <td>False</td>\n",
       "      <td>False</td>\n",
       "      <td>False</td>\n",
       "      <td>0</td>\n",
       "    </tr>\n",
       "    <tr>\n",
       "      <th>19</th>\n",
       "      <td>BILL_AMT6</td>\n",
       "      <td>False</td>\n",
       "      <td>False</td>\n",
       "      <td>False</td>\n",
       "      <td>0</td>\n",
       "    </tr>\n",
       "    <tr>\n",
       "      <th>20</th>\n",
       "      <td>BILL_AMT5</td>\n",
       "      <td>False</td>\n",
       "      <td>False</td>\n",
       "      <td>False</td>\n",
       "      <td>0</td>\n",
       "    </tr>\n",
       "    <tr>\n",
       "      <th>21</th>\n",
       "      <td>BILL_AMT4</td>\n",
       "      <td>False</td>\n",
       "      <td>False</td>\n",
       "      <td>False</td>\n",
       "      <td>0</td>\n",
       "    </tr>\n",
       "    <tr>\n",
       "      <th>22</th>\n",
       "      <td>BILL_AMT3</td>\n",
       "      <td>False</td>\n",
       "      <td>False</td>\n",
       "      <td>False</td>\n",
       "      <td>0</td>\n",
       "    </tr>\n",
       "    <tr>\n",
       "      <th>23</th>\n",
       "      <td>BILL_AMT1</td>\n",
       "      <td>False</td>\n",
       "      <td>False</td>\n",
       "      <td>False</td>\n",
       "      <td>0</td>\n",
       "    </tr>\n",
       "    <tr>\n",
       "      <th>24</th>\n",
       "      <td>AGE</td>\n",
       "      <td>False</td>\n",
       "      <td>False</td>\n",
       "      <td>False</td>\n",
       "      <td>0</td>\n",
       "    </tr>\n",
       "  </tbody>\n",
       "</table>\n",
       "</div>"
      ],
      "text/plain": [
       "              Feature  Chi-2    RFE  Logistics  Total\n",
       "1            PAY_AMT6   True   True       True      3\n",
       "2            PAY_AMT4   True   True       True      3\n",
       "3            PAY_AMT3   True   True       True      3\n",
       "4            PAY_AMT1   True   True       True      3\n",
       "5               PAY_0   True   True       True      3\n",
       "6       Late Payments   True   True       True      3\n",
       "7   CREDIT LIMIT(NT$)   True   True       True      3\n",
       "8            PAY_AMT5   True   True      False      2\n",
       "9            PAY_AMT2  False   True       True      2\n",
       "10              PAY_6   True   True      False      2\n",
       "11              PAY_5   True   True      False      2\n",
       "12              PAY_4   True   True      False      2\n",
       "13              PAY_3   True   True      False      2\n",
       "14              PAY_2   True   True      False      2\n",
       "15          BILL_AMT2  False   True       True      2\n",
       "16             GENDER   True  False      False      1\n",
       "17          EDUCATION   True  False      False      1\n",
       "18           MARRIAGE  False  False      False      0\n",
       "19          BILL_AMT6  False  False      False      0\n",
       "20          BILL_AMT5  False  False      False      0\n",
       "21          BILL_AMT4  False  False      False      0\n",
       "22          BILL_AMT3  False  False      False      0\n",
       "23          BILL_AMT1  False  False      False      0\n",
       "24                AGE  False  False      False      0"
      ]
     },
     "execution_count": 23,
     "metadata": {},
     "output_type": "execute_result"
    }
   ],
   "source": [
    "# put all selection together\n",
    "feature_selection_ = pd.DataFrame({'Feature':X.columns,'Chi-2':chi_support,'RFE':rfe_support,  'Logistics':embeded_lr_support})\n",
    "# count the selected times for each feature\n",
    "feature_selection_['Total'] = np.sum(feature_selection_, axis=1)\n",
    "# display all 30\n",
    "feature_selection_ = feature_selection_.sort_values(['Total','Feature'] , ascending=False)\n",
    "feature_selection_.index = range(1, len(feature_selection_)+1)\n",
    "feature_selection_"
   ]
  },
  {
   "cell_type": "code",
   "execution_count": 24,
   "metadata": {},
   "outputs": [],
   "source": [
    "df_FI = df[['PAY_0', 'AGE', 'BILL_AMT1', 'CREDIT LIMIT(NT$)', 'PAY_AMT6', 'PAY_AMT2', \n",
    "                 'PAY_AMT3', 'Late Payments', 'PAY_AMT5', 'BILL_AMT2', 'BILL_AMT6', \n",
    "                 'PAY_AMT1', 'BILL_AMT4', 'BILL_AMT3', 'BILL_AMT5', 'PAY_AMT4','EDUCATION','MARRIAGE', 'Default']]"
   ]
  },
  {
   "cell_type": "code",
   "execution_count": 25,
   "metadata": {},
   "outputs": [
    {
     "name": "stdout",
     "output_type": "stream",
     "text": [
      "--------------- Split-out dataset [Done]\n"
     ]
    }
   ],
   "source": [
    "# ===========================================================================\n",
    "#                              [Predictive Analysis]\n",
    "# ===========================================================================\n",
    "class_weight = {1: 0.72, 0: 0.28}\n",
    "# Seperate the y from the x columns\n",
    "X_FI = df_FI.drop('Default',axis=1)\n",
    "Y_FI = df_FI['Default']\n",
    "\n",
    "from sklearn.model_selection import train_test_split\n",
    "X_Train, X_Test, y_Train, y_Test = train_test_split(X_FI, Y_FI, test_size=0.25, random_state=1)\n",
    "print('--------------- Split-out dataset [Done]')\n"
   ]
  },
  {
   "cell_type": "markdown",
   "metadata": {},
   "source": [
    "# Baseline Model - Simple"
   ]
  },
  {
   "cell_type": "code",
   "execution_count": 26,
   "metadata": {},
   "outputs": [
    {
     "data": {
      "text/html": [
       "<div>\n",
       "<style scoped>\n",
       "    .dataframe tbody tr th:only-of-type {\n",
       "        vertical-align: middle;\n",
       "    }\n",
       "\n",
       "    .dataframe tbody tr th {\n",
       "        vertical-align: top;\n",
       "    }\n",
       "\n",
       "    .dataframe thead th {\n",
       "        text-align: right;\n",
       "    }\n",
       "</style>\n",
       "<table border=\"1\" class=\"dataframe\">\n",
       "  <thead>\n",
       "    <tr style=\"text-align: right;\">\n",
       "      <th></th>\n",
       "      <th>PAY_0</th>\n",
       "      <th>AGE</th>\n",
       "      <th>BILL_AMT1</th>\n",
       "      <th>CREDIT LIMIT(NT$)</th>\n",
       "      <th>PAY_AMT6</th>\n",
       "      <th>PAY_AMT2</th>\n",
       "      <th>PAY_AMT3</th>\n",
       "      <th>Late Payments</th>\n",
       "      <th>PAY_AMT5</th>\n",
       "      <th>BILL_AMT2</th>\n",
       "      <th>BILL_AMT6</th>\n",
       "      <th>PAY_AMT1</th>\n",
       "      <th>BILL_AMT4</th>\n",
       "      <th>BILL_AMT3</th>\n",
       "      <th>BILL_AMT5</th>\n",
       "      <th>PAY_AMT4</th>\n",
       "      <th>EDUCATION</th>\n",
       "      <th>MARRIAGE</th>\n",
       "      <th>Default</th>\n",
       "    </tr>\n",
       "  </thead>\n",
       "  <tbody>\n",
       "    <tr>\n",
       "      <th>0</th>\n",
       "      <td>2</td>\n",
       "      <td>24</td>\n",
       "      <td>3913</td>\n",
       "      <td>20000</td>\n",
       "      <td>0</td>\n",
       "      <td>689</td>\n",
       "      <td>0</td>\n",
       "      <td>2</td>\n",
       "      <td>0</td>\n",
       "      <td>3102</td>\n",
       "      <td>0</td>\n",
       "      <td>0</td>\n",
       "      <td>0</td>\n",
       "      <td>689</td>\n",
       "      <td>0</td>\n",
       "      <td>0</td>\n",
       "      <td>2</td>\n",
       "      <td>1</td>\n",
       "      <td>1</td>\n",
       "    </tr>\n",
       "    <tr>\n",
       "      <th>1</th>\n",
       "      <td>-1</td>\n",
       "      <td>26</td>\n",
       "      <td>2682</td>\n",
       "      <td>120000</td>\n",
       "      <td>2000</td>\n",
       "      <td>1000</td>\n",
       "      <td>1000</td>\n",
       "      <td>2</td>\n",
       "      <td>0</td>\n",
       "      <td>1725</td>\n",
       "      <td>3261</td>\n",
       "      <td>0</td>\n",
       "      <td>3272</td>\n",
       "      <td>2682</td>\n",
       "      <td>3455</td>\n",
       "      <td>1000</td>\n",
       "      <td>2</td>\n",
       "      <td>2</td>\n",
       "      <td>1</td>\n",
       "    </tr>\n",
       "    <tr>\n",
       "      <th>2</th>\n",
       "      <td>0</td>\n",
       "      <td>34</td>\n",
       "      <td>29239</td>\n",
       "      <td>90000</td>\n",
       "      <td>5000</td>\n",
       "      <td>1500</td>\n",
       "      <td>1000</td>\n",
       "      <td>0</td>\n",
       "      <td>1000</td>\n",
       "      <td>14027</td>\n",
       "      <td>15549</td>\n",
       "      <td>1518</td>\n",
       "      <td>14331</td>\n",
       "      <td>13559</td>\n",
       "      <td>14948</td>\n",
       "      <td>1000</td>\n",
       "      <td>2</td>\n",
       "      <td>2</td>\n",
       "      <td>0</td>\n",
       "    </tr>\n",
       "    <tr>\n",
       "      <th>3</th>\n",
       "      <td>0</td>\n",
       "      <td>37</td>\n",
       "      <td>46990</td>\n",
       "      <td>50000</td>\n",
       "      <td>1000</td>\n",
       "      <td>2019</td>\n",
       "      <td>1200</td>\n",
       "      <td>0</td>\n",
       "      <td>1069</td>\n",
       "      <td>48233</td>\n",
       "      <td>29547</td>\n",
       "      <td>2000</td>\n",
       "      <td>28314</td>\n",
       "      <td>49291</td>\n",
       "      <td>28959</td>\n",
       "      <td>1100</td>\n",
       "      <td>2</td>\n",
       "      <td>1</td>\n",
       "      <td>0</td>\n",
       "    </tr>\n",
       "    <tr>\n",
       "      <th>4</th>\n",
       "      <td>-1</td>\n",
       "      <td>57</td>\n",
       "      <td>8617</td>\n",
       "      <td>50000</td>\n",
       "      <td>679</td>\n",
       "      <td>36681</td>\n",
       "      <td>10000</td>\n",
       "      <td>0</td>\n",
       "      <td>689</td>\n",
       "      <td>5670</td>\n",
       "      <td>19131</td>\n",
       "      <td>2000</td>\n",
       "      <td>20940</td>\n",
       "      <td>35835</td>\n",
       "      <td>19146</td>\n",
       "      <td>9000</td>\n",
       "      <td>2</td>\n",
       "      <td>1</td>\n",
       "      <td>0</td>\n",
       "    </tr>\n",
       "  </tbody>\n",
       "</table>\n",
       "</div>"
      ],
      "text/plain": [
       "   PAY_0  AGE  BILL_AMT1  CREDIT LIMIT(NT$)  PAY_AMT6  PAY_AMT2  PAY_AMT3  \\\n",
       "0      2   24       3913              20000         0       689         0   \n",
       "1     -1   26       2682             120000      2000      1000      1000   \n",
       "2      0   34      29239              90000      5000      1500      1000   \n",
       "3      0   37      46990              50000      1000      2019      1200   \n",
       "4     -1   57       8617              50000       679     36681     10000   \n",
       "\n",
       "   Late Payments  PAY_AMT5  BILL_AMT2  BILL_AMT6  PAY_AMT1  BILL_AMT4  \\\n",
       "0              2         0       3102          0         0          0   \n",
       "1              2         0       1725       3261         0       3272   \n",
       "2              0      1000      14027      15549      1518      14331   \n",
       "3              0      1069      48233      29547      2000      28314   \n",
       "4              0       689       5670      19131      2000      20940   \n",
       "\n",
       "   BILL_AMT3  BILL_AMT5  PAY_AMT4  EDUCATION  MARRIAGE  Default  \n",
       "0        689          0         0          2         1        1  \n",
       "1       2682       3455      1000          2         2        1  \n",
       "2      13559      14948      1000          2         2        0  \n",
       "3      49291      28959      1100          2         1        0  \n",
       "4      35835      19146      9000          2         1        0  "
      ]
     },
     "execution_count": 26,
     "metadata": {},
     "output_type": "execute_result"
    }
   ],
   "source": [
    "df_FI.head()"
   ]
  },
  {
   "cell_type": "code",
   "execution_count": 27,
   "metadata": {},
   "outputs": [
    {
     "name": "stdout",
     "output_type": "stream",
     "text": [
      "Baseline Train set: 77.91% (0.03%)\n",
      "Baseline Test set: 77.68% (0.14%)\n"
     ]
    }
   ],
   "source": [
    "# baseline model\n",
    "\n",
    "def create_baseline():\n",
    "        # Create a Sequential model and add layers one at a time until the desired network topology is \n",
    "    #achieved\n",
    "    model = Sequential()\n",
    "\n",
    "    # Create the first layer. check that the input layer has the right number of dimension by using\n",
    "    # input_dim argument and setting it to 18 for the 18 input variables\n",
    "    model.add(Dense(18, input_dim = 18, kernel_initializer ='uniform', activation = 'relu'))\n",
    "    # The first hidden layer has 18 neurons and expects 18 input variables\n",
    "    # The initialization method is uniform --- The network weights is initialized to a small random\n",
    "    #number generated from the uniform distribution --- Keras default (0 and 0.05)\n",
    "    # The activation function for the first layer is relu\n",
    "\n",
    "    # Create second Layer\n",
    "    model.add(Dense(14, kernel_initializer ='uniform', activation = 'relu'))\n",
    "\n",
    "    # Create third Layer\n",
    "    model.add(Dense(1, kernel_initializer ='uniform', activation = 'sigmoid'))\n",
    "    # Sigmoid activation function --- to ensure that the network output is between 0 and 1\n",
    "    #the final layer predicts class --- Malignant, or Benign\n",
    "    \n",
    "\n",
    "    # Compile model\n",
    "    model.compile(loss= 'binary_crossentropy' , optimizer= 'adam' , metrics=[ 'accuracy' ])\n",
    "    return model\n",
    "\n",
    "# evaluate model with standardized dataset\n",
    "estimator_B = KerasClassifier(build_fn=create_baseline, nb_epoch=150, batch_size=10, verbose=0)\n",
    "kfold = StratifiedKFold(n_splits=10, shuffle=True, random_state=seed)\n",
    "results_TS = cross_val_score(estimator_B, X_Train, y_Train, cv=kfold)\n",
    "results_VS = cross_val_score(estimator_B, X_Test, y_Test, cv=kfold)\n",
    "print(\"Baseline Train set: %.2f%% (%.2f%%)\" % (results_TS.mean()*100, results_TS.std()*100))\n",
    "print(\"Baseline Test set: %.2f%% (%.2f%%)\" % (results_VS.mean()*100, results_VS.std()*100))"
   ]
  },
  {
   "cell_type": "code",
   "execution_count": 28,
   "metadata": {},
   "outputs": [
    {
     "name": "stdout",
     "output_type": "stream",
     "text": [
      "----------------------> [KerasClassifier performance summary]\n",
      "Accuracy: 0.777\n",
      "\n",
      "KerasClassifier Confusion Matrix:\n",
      "\n",
      "[[5831    1]\n",
      " [1668    0]]\n",
      "\\nKerasClassifier Classification Report:\n",
      "\n",
      "              precision    recall  f1-score   support\n",
      "\n",
      "           0       0.78      1.00      0.87      5832\n",
      "           1       0.00      0.00      0.00      1668\n",
      "\n",
      "    accuracy                           0.78      7500\n",
      "   macro avg       0.39      0.50      0.44      7500\n",
      "weighted avg       0.60      0.78      0.68      7500\n",
      "\n",
      "Mean ROC AUC: 0.626\n",
      "\n",
      "Misclassified examples: 1669\n",
      "Misclassification rate: 1669.000 %\n",
      "Test set Accuracy: 0.777\n",
      "Training set Accuracy: 0.779\n",
      "--------------- KerasClassifier: classifier.fit [Done]\n"
     ]
    }
   ],
   "source": [
    "#---------Classification report--------\n",
    "from sklearn.metrics import classification_report, confusion_matrix\n",
    "from sklearn.metrics import accuracy_score\n",
    "print (\"----------------------> [KerasClassifier performance summary]\")\n",
    "estimator_B.fit(X_Train, y_Train, class_weight = class_weight)\n",
    "\n",
    "y_pred_B = estimator_B.predict(X_Test)\n",
    "scores = cross_val_score(estimator_B, X_Test, y_Test, scoring='roc_auc', cv=kfold, n_jobs=-1)\n",
    "\n",
    "print(\"Accuracy: {:.3f}\".format(accuracy_score(y_pred_B, y_Test)))\n",
    "# Confusion Matrix\n",
    "print(\"\\nKerasClassifier Confusion Matrix:\\n\")\n",
    "print(confusion_matrix(y_Test,y_pred_B))\n",
    "print(\"\\\\nKerasClassifier Classification Report:\\n\")\n",
    "print(classification_report(y_Test,y_pred_B))\n",
    "print('Mean ROC AUC: %.3f' % scores.mean(), end=\"\\n\\n\")\n",
    "\n",
    "# reduce from 2d array to 1d array\n",
    "y_Test = y_Test.ravel() \n",
    "y_pred_B= y_pred_B.ravel() \n",
    "\n",
    "print('Misclassified examples: %d' % (y_Test != y_pred_B).sum())\n",
    "print('Misclassification rate: %.3f' % ((y_Test != y_pred_B).sum()/y_pred_B.sum()) + ' %')\n",
    "print(\"Test set Accuracy: {:.3f}\".format(estimator_B.score(X_Test, y_Test)))\n",
    "print(\"Training set Accuracy: {:.3f}\".format(estimator_B.score(X_Train, y_Train)))\n",
    "print('--------------- KerasClassifier: classifier.fit [Done]')"
   ]
  },
  {
   "cell_type": "code",
   "execution_count": 29,
   "metadata": {},
   "outputs": [
    {
     "data": {
      "image/png": "[encoded data removed]",
      "text/plain": [
       "<Figure size 288x216 with 2 Axes>"
      ]
     },
     "metadata": {
      "needs_background": "light"
     },
     "output_type": "display_data"
    }
   ],
   "source": [
    "#plot of confusion matrix\n",
    "plt.figure(figsize=(4,3))\n",
    "cm =confusion_matrix(y_Test, y_pred_B)\n",
    "sns.heatmap(cm,annot=True, cmap=\"Blues\", fmt=\"d\", \n",
    "            xticklabels = ['Non-Default', 'Default'], \n",
    "            yticklabels = ['Non-Default', 'Default'])\n",
    "plt.ylabel('True')\n",
    "plt.xlabel('Predicted')\n",
    "plt.title(\"Confusion Matrix Keras Classifier\");"
   ]
  },
  {
   "cell_type": "code",
   "execution_count": 30,
   "metadata": {},
   "outputs": [
    {
     "data": {
      "image/png": "[encoded data removed]",
      "text/plain": [
       "<Figure size 432x288 with 2 Axes>"
      ]
     },
     "metadata": {
      "needs_background": "light"
     },
     "output_type": "display_data"
    }
   ],
   "source": [
    "group_names = ['True Neg','False Pos','False Neg','True Pos']\n",
    "group_counts = ['{0:0.0f}'.format(value) for value in\n",
    "               cm.flatten()]\n",
    "group_percentages = ['{0:.1%}'.format(value) for value in\n",
    "                    cm.flatten()/np.sum(cm)]\n",
    "labels = [f'{v1}\\n{v2}\\n{v3}' for v1, v2, v3 in\n",
    "          zip(group_names,group_counts,group_percentages)]\n",
    "labels = np.asarray(labels).reshape(2,2)\n",
    "sns.heatmap(cm, annot=labels, fmt='', cmap='RdPu')\n",
    "plt.xlabel('\\nPredicted', size=13)\n",
    "plt.ylabel('\\nTrue', size=14)\n",
    "plt.title(\"Confusion Matrix:\\n KerasClassifier \\n\\n\")\n",
    "plt.show()"
   ]
  },
  {
   "cell_type": "markdown",
   "metadata": {},
   "source": [
    "# Standadized Model"
   ]
  },
  {
   "cell_type": "code",
   "execution_count": 31,
   "metadata": {},
   "outputs": [
    {
     "name": "stdout",
     "output_type": "stream",
     "text": [
      "Standardized Train set: 80.82% (0.54%)\n",
      "Standardized Test set: 79.36% (0.54%)\n"
     ]
    }
   ],
   "source": [
    "# evaluate baseline model with standardized dataset\n",
    "numpy.random.seed(seed)\n",
    "estimators_ST = []\n",
    "estimators_ST.append(( 'standardize' , StandardScaler()))\n",
    "estimators_ST.append(( 'mlp' , KerasClassifier(build_fn=create_baseline, nb_epoch=150,\n",
    "batch_size=10, verbose=0)))\n",
    "pipeline_ST = Pipeline(estimators_ST)\n",
    "kfold = StratifiedKFold(n_splits=10, shuffle=True, random_state=seed)\n",
    "results_TS2 = cross_val_score(pipeline_ST, X_Train, y_Train, cv=kfold)\n",
    "results_VS2 = cross_val_score(pipeline_ST, X_Test, y_Test, cv=kfold)\n",
    "print(\"Standardized Train set: %.2f%% (%.2f%%)\" % (results_TS2.mean()*100, results_TS2.std()*100))\n",
    "print(\"Standardized Test set: %.2f%% (%.2f%%)\" % (results_VS2.mean()*100, results_TS2.std()*100))"
   ]
  },
  {
   "cell_type": "code",
   "execution_count": 32,
   "metadata": {},
   "outputs": [
    {
     "name": "stdout",
     "output_type": "stream",
     "text": [
      "----------------------> [KerasClassifier performance summary]\n",
      "Accuracy: 0.783\n",
      "\n",
      "KerasClassifier Confusion Matrix:\n",
      "\n",
      "[[4992  840]\n",
      " [ 791  877]]\n",
      "\\nKerasClassifier Classification Report:\n",
      "\n",
      "              precision    recall  f1-score   support\n",
      "\n",
      "           0       0.86      0.86      0.86      5832\n",
      "           1       0.51      0.53      0.52      1668\n",
      "\n",
      "    accuracy                           0.78      7500\n",
      "   macro avg       0.69      0.69      0.69      7500\n",
      "weighted avg       0.78      0.78      0.78      7500\n",
      "\n",
      "Mean ROC AUC: 0.739\n",
      "\n",
      "Misclassified examples: 1631\n",
      "Misclassification rate: 0.950 %\n",
      "Test set Accuracy: 0.783\n",
      "Training set Accuracy: 0.785\n",
      "--------------- KerasClassifier: classifier.fit [Done]\n"
     ]
    }
   ],
   "source": [
    "#---------Classification report--------\n",
    "from sklearn.metrics import classification_report, confusion_matrix\n",
    "from sklearn.metrics import accuracy_score\n",
    "print (\"----------------------> [KerasClassifier performance summary]\")\n",
    "pipeline_ST.fit(X_Train, y_Train, mlp__class_weight = class_weight)\n",
    "\n",
    "y_pred_ST = pipeline_ST.predict(X_Test)\n",
    "scores_ST = cross_val_score(pipeline_ST, X_Test, y_Test, scoring='roc_auc', cv=kfold, n_jobs=-1)\n",
    "\n",
    "print(\"Accuracy: {:.3f}\".format(accuracy_score(y_pred_ST, y_Test)))\n",
    "# Confusion Matrix\n",
    "print(\"\\nKerasClassifier Confusion Matrix:\\n\")\n",
    "print(confusion_matrix(y_Test,y_pred_ST))\n",
    "print(\"\\\\nKerasClassifier Classification Report:\\n\")\n",
    "print(classification_report(y_Test,y_pred_ST))\n",
    "print('Mean ROC AUC: %.3f' % scores_ST.mean(), end=\"\\n\\n\")\n",
    "\n",
    "# reduce from 2d array to 1d array\n",
    "y_Test = y_Test.ravel() \n",
    "y_pred_ST= y_pred_ST.ravel() \n",
    "\n",
    "print('Misclassified examples: %d' % (y_Test != y_pred_ST).sum())\n",
    "print('Misclassification rate: %.3f' % ((y_Test != y_pred_ST).sum()/y_pred_ST.sum()) + ' %')\n",
    "print(\"Test set Accuracy: {:.3f}\".format(pipeline_ST.score(X_Test, y_Test)))\n",
    "print(\"Training set Accuracy: {:.3f}\".format(pipeline_ST.score(X_Train, y_Train)))\n",
    "print('--------------- KerasClassifier: classifier.fit [Done]')"
   ]
  },
  {
   "cell_type": "markdown",
   "metadata": {},
   "source": [
    "power of standardization"
   ]
  },
  {
   "cell_type": "code",
   "execution_count": 33,
   "metadata": {},
   "outputs": [
    {
     "data": {
      "image/png": "[encoded data removed]",
      "text/plain": [
       "<Figure size 288x216 with 2 Axes>"
      ]
     },
     "metadata": {
      "needs_background": "light"
     },
     "output_type": "display_data"
    }
   ],
   "source": [
    "#plot of confusion matrix\n",
    "plt.figure(figsize=(4,3))\n",
    "cm =confusion_matrix(y_Test, y_pred_ST)\n",
    "sns.heatmap(cm,annot=True, cmap=\"Blues\", fmt=\"d\", \n",
    "            xticklabels = ['Non-Default', 'Default'], \n",
    "            yticklabels = ['Non-Default', 'Default'])\n",
    "plt.ylabel('True')\n",
    "plt.xlabel('Predicted')\n",
    "plt.title(\"Confusion Matrix Keras Classifier\");"
   ]
  },
  {
   "cell_type": "code",
   "execution_count": 34,
   "metadata": {},
   "outputs": [
    {
     "data": {
      "image/png": "[encoded data removed]",
      "text/plain": [
       "<Figure size 432x288 with 2 Axes>"
      ]
     },
     "metadata": {
      "needs_background": "light"
     },
     "output_type": "display_data"
    }
   ],
   "source": [
    "group_names = ['True Neg','False Pos','False Neg','True Pos']\n",
    "group_counts = ['{0:0.0f}'.format(value) for value in\n",
    "               cm.flatten()]\n",
    "group_percentages = ['{0:.1%}'.format(value) for value in\n",
    "                    cm.flatten()/np.sum(cm)]\n",
    "labels = [f'{v1}\\n{v2}\\n{v3}' for v1, v2, v3 in\n",
    "          zip(group_names,group_counts,group_percentages)]\n",
    "labels = np.asarray(labels).reshape(2,2)\n",
    "sns.heatmap(cm, annot=labels, fmt='', cmap='RdPu')\n",
    "plt.xlabel('\\nPredicted', size=13)\n",
    "plt.ylabel('\\nTrue', size=14)\n",
    "plt.title(\"Confusion Matrix:\\n KerasClassifier \\n\\n\")\n",
    "plt.show()"
   ]
  },
  {
   "cell_type": "markdown",
   "metadata": {},
   "source": [
    "# Baseline Model With Learning Rate"
   ]
  },
  {
   "cell_type": "code",
   "execution_count": 35,
   "metadata": {},
   "outputs": [
    {
     "name": "stdout",
     "output_type": "stream",
     "text": [
      "Baseline Training set: 77.92% (0.02%)\n",
      "Baseline Test set: 77.76% (0.05%)\n"
     ]
    }
   ],
   "source": [
    "# baseline\n",
    "from keras.constraints import maxnorm\n",
    "from keras.optimizers import SGD\n",
    "from keras.layers import Dropout\n",
    "\n",
    "def create_baseline_lr(optimizer= 'sgd' , kernel_initializer= 'glorot_uniform'):\n",
    "    \n",
    "    # Create a Sequential model and add layers one at a time until the desired network topology is \n",
    "    #achieved\n",
    "    model = Sequential()\n",
    "\n",
    "    # Create the first layer. check that the input layer has the right number of dimension by using\n",
    "    # input_dim argument and setting it to 18 for the 18 input variables\n",
    "    model.add(Dense(18, input_dim = 18, kernel_initializer ='uniform', activation = 'relu'))\n",
    "    # The first hidden layer has 18 neurons and expects 18 input variables\n",
    "    # The initialization method is uniform --- The network weights is initialized to a small random\n",
    "    #number generated from the uniform distribution --- Keras default (0 and 0.05)\n",
    "    # The activation function for the first layer is relu\n",
    "\n",
    "    # Create second Layer\n",
    "    model.add(Dense(14, kernel_initializer ='uniform', activation = 'relu'))\n",
    "\n",
    "    # Create third Layer\n",
    "    model.add(Dense(1, kernel_initializer ='uniform', activation = 'sigmoid'))\n",
    "    # Sigmoid activation function --- to ensure that the network output is between 0 and 1\n",
    "    #the final layer predicts class --- Malignant, or Benign\n",
    "    \n",
    "    # Compile model - learning rate 0.01\n",
    "    sgd = SGD(lr=0.001, momentum=0.99, decay=0.01, nesterov=False)\n",
    "    model.compile(loss= 'binary_crossentropy' , optimizer=optimizer, metrics=[ 'accuracy' ])\n",
    "    return model\n",
    "\n",
    "numpy.random.seed(seed)\n",
    "estimators_LR = []\n",
    "estimators_LR.append(( 'standardize' , StandardScaler()))\n",
    "estimators_LR.append(( 'mlp_lr' , KerasClassifier(build_fn=create_baseline_lr, nb_epoch=150,\n",
    "batch_size=10, verbose=0)))\n",
    "pipeline_LR = Pipeline(estimators_LR)\n",
    "kfold = StratifiedKFold(n_splits=10, shuffle=True, random_state=seed)\n",
    "results_TS3 = cross_val_score(pipeline_LR, X_Train, y_Train, cv=kfold)\n",
    "results_VS3 = cross_val_score(pipeline_LR, X_Test, y_Test, cv=kfold)\n",
    "print(\"Baseline Training set: %.2f%% (%.2f%%)\" % (results_TS3.mean()*100, results_TS3.std()*100))\n",
    "print(\"Baseline Test set: %.2f%% (%.2f%%)\" % (results_VS3.mean()*100, results_VS3.std()*100))"
   ]
  },
  {
   "cell_type": "code",
   "execution_count": 36,
   "metadata": {},
   "outputs": [
    {
     "name": "stdout",
     "output_type": "stream",
     "text": [
      "----------------------> [KerasClassifier performance summary]\n",
      "Accuracy: 0.778\n",
      "\n",
      "KerasClassifier Confusion Matrix:\n",
      "\n",
      "[[5832    0]\n",
      " [1668    0]]\n",
      "\\nKerasClassifier Classification Report:\n",
      "\n",
      "              precision    recall  f1-score   support\n",
      "\n",
      "           0       0.78      1.00      0.87      5832\n",
      "           1       1.00      0.00      0.00      1668\n",
      "\n",
      "    accuracy                           0.78      7500\n",
      "   macro avg       0.89      0.50      0.44      7500\n",
      "weighted avg       0.83      0.78      0.68      7500\n",
      "\n",
      "Mean ROC AUC: 0.584\n",
      "\n",
      "Misclassified examples: 1668\n",
      "Misclassification rate: inf %\n"
     ]
    },
    {
     "name": "stderr",
     "output_type": "stream",
     "text": [
      "C:\\ProgramData\\Anaconda3\\lib\\site-packages\\ipykernel_launcher.py:23: RuntimeWarning: divide by zero encountered in true_divide\n"
     ]
    },
    {
     "name": "stdout",
     "output_type": "stream",
     "text": [
      "Test set Accuracy: 0.778\n",
      "Training set Accuracy: 0.779\n",
      "--------------- KerasClassifier: classifier.fit [Done]\n"
     ]
    }
   ],
   "source": [
    "#---------Classification report--------\n",
    "from sklearn.metrics import classification_report, confusion_matrix\n",
    "from sklearn.metrics import accuracy_score\n",
    "print (\"----------------------> [KerasClassifier performance summary]\")\n",
    "pipeline_LR.fit(X_Train, y_Train, mlp_lr__class_weight = class_weight)\n",
    "\n",
    "y_pred_LR = pipeline_LR.predict(X_Test)\n",
    "scores_LR = cross_val_score(pipeline_LR, X_Test, y_Test, scoring='roc_auc', cv=kfold, n_jobs=-1)\n",
    "\n",
    "print(\"Accuracy: {:.3f}\".format(accuracy_score(y_pred_LR, y_Test)))\n",
    "# Confusion Matrix\n",
    "print(\"\\nKerasClassifier Confusion Matrix:\\n\")\n",
    "print(confusion_matrix(y_Test,y_pred_LR))\n",
    "print(\"\\\\nKerasClassifier Classification Report:\\n\")\n",
    "print(classification_report(y_Test,y_pred_LR,zero_division=1))\n",
    "print('Mean ROC AUC: %.3f' % scores_LR.mean(), end=\"\\n\\n\")\n",
    "\n",
    "# reduce from 2d array to 1d array\n",
    "y_Test = y_Test.ravel() \n",
    "y_pred_LR= y_pred_LR.ravel() \n",
    "\n",
    "print('Misclassified examples: %d' % (y_Test != y_pred_LR).sum())\n",
    "print('Misclassification rate: %.3f' % ((y_Test != y_pred_LR).sum()/y_pred_LR.sum()) + ' %')\n",
    "print(\"Test set Accuracy: {:.3f}\".format(pipeline_LR.score(X_Test, y_Test)))\n",
    "print(\"Training set Accuracy: {:.3f}\".format(pipeline_LR.score(X_Train, y_Train)))\n",
    "print('--------------- KerasClassifier: classifier.fit [Done]')"
   ]
  },
  {
   "cell_type": "code",
   "execution_count": 37,
   "metadata": {},
   "outputs": [
    {
     "data": {
      "image/png": "[encoded data removed]",
      "text/plain": [
       "<Figure size 288x216 with 2 Axes>"
      ]
     },
     "metadata": {
      "needs_background": "light"
     },
     "output_type": "display_data"
    }
   ],
   "source": [
    "#plot of confusion matrix\n",
    "plt.figure(figsize=(4,3))\n",
    "cm =confusion_matrix(y_Test, y_pred_LR)\n",
    "sns.heatmap(cm,annot=True, cmap=\"Blues\", fmt=\"d\", \n",
    "            xticklabels = ['Non-Default', 'Default'], \n",
    "            yticklabels = ['Non-Default', 'Default'])\n",
    "plt.ylabel('True')\n",
    "plt.xlabel('Predicted')\n",
    "plt.title(\"Confusion Matrix Keras Classifier\");"
   ]
  },
  {
   "cell_type": "code",
   "execution_count": 38,
   "metadata": {},
   "outputs": [
    {
     "data": {
      "image/png": "[encoded data removed]",
      "text/plain": [
       "<Figure size 432x288 with 2 Axes>"
      ]
     },
     "metadata": {
      "needs_background": "light"
     },
     "output_type": "display_data"
    }
   ],
   "source": [
    "group_names = ['True Neg','False Pos','False Neg','True Pos']\n",
    "group_counts = ['{0:0.0f}'.format(value) for value in\n",
    "               cm.flatten()]\n",
    "group_percentages = ['{0:.1%}'.format(value) for value in\n",
    "                    cm.flatten()/np.sum(cm)]\n",
    "labels = [f'{v1}\\n{v2}\\n{v3}' for v1, v2, v3 in\n",
    "          zip(group_names,group_counts,group_percentages)]\n",
    "labels = np.asarray(labels).reshape(2,2)\n",
    "sns.heatmap(cm, annot=labels, fmt='', cmap='RdPu')\n",
    "plt.xlabel('\\nPredicted', size=13)\n",
    "plt.ylabel('\\nTrue', size=14)\n",
    "plt.title(\"Confusion Matrix:\\n KerasClassifier \\n\\n\")\n",
    "plt.show()"
   ]
  },
  {
   "cell_type": "markdown",
   "metadata": {},
   "source": [
    "# Dropout Regularization\n",
    "dropout in the visible and hidden layers with weight constraint"
   ]
  },
  {
   "cell_type": "code",
   "execution_count": 39,
   "metadata": {},
   "outputs": [
    {
     "name": "stdout",
     "output_type": "stream",
     "text": [
      "Visible plus Hidden layers (Training set): 79.46% (1.17%)\n",
      "Visible plus Hidden layers (Test set): 77.84% (0.24%)\n"
     ]
    }
   ],
   "source": [
    "# dropout in the visible and hidden layers with weight constraint\n",
    "def create_model_dr(optimizer= 'sgd' , kernel_initializer= 'glorot_uniform'):\n",
    "    # create model\n",
    "    model = Sequential()\n",
    "    model.add(Dropout(0.2, input_shape=(18,)))\n",
    "    model.add(Dense(18, kernel_initializer ='uniform', activation = 'relu', kernel_constraint=maxnorm(3)))\n",
    "    model.add(Dropout(0.2))\n",
    "    model.add(Dense(14, kernel_initializer ='uniform', activation = 'relu', kernel_constraint=maxnorm(3)))\n",
    "    model.add(Dropout(0.2))\n",
    "    model.add(Dense(1, kernel_initializer ='uniform', activation = 'sigmoid'))\n",
    "    # Compile model\n",
    "    sgd = SGD(lr=0.01, momentum=0.99, decay=0.01, nesterov=False)\n",
    "    model.compile(loss= 'binary_crossentropy' , optimizer=sgd, metrics=[ 'accuracy' ])\n",
    "    return model\n",
    "numpy.random.seed(seed)\n",
    "estimators_DR = []\n",
    "estimators_DR.append(( 'standardize' , StandardScaler()))\n",
    "estimators_DR.append(( 'mlp_dr' , KerasClassifier(build_fn=create_model_dr, nb_epoch=150,batch_size=10, verbose=0)))\n",
    "pipeline_DR = Pipeline(estimators_DR)\n",
    "kfold = StratifiedKFold(n_splits=10, shuffle=True, random_state=seed)\n",
    "\n",
    "results_TS4 = cross_val_score(pipeline_DR, X_Train, y_Train, cv=kfold)\n",
    "results_VS4 = cross_val_score(pipeline_DR, X_Test, y_Test, cv=kfold)\n",
    "print(\"Visible plus Hidden layers (Training set): %.2f%% (%.2f%%)\" % (results_TS4.mean()*100, results_TS4.std()*100))\n",
    "print(\"Visible plus Hidden layers (Test set): %.2f%% (%.2f%%)\" % (results_VS4.mean()*100, results_VS4.std()*100))"
   ]
  },
  {
   "cell_type": "code",
   "execution_count": 40,
   "metadata": {},
   "outputs": [
    {
     "name": "stdout",
     "output_type": "stream",
     "text": [
      "----------------------> [KerasClassifier performance summary]\n",
      "Accuracy: 0.803\n",
      "\n",
      "KerasClassifier Confusion Matrix:\n",
      "\n",
      "[[5226  606]\n",
      " [ 874  794]]\n",
      "\\nKerasClassifier Classification Report:\n",
      "\n",
      "              precision    recall  f1-score   support\n",
      "\n",
      "           0       0.86      0.90      0.88      5832\n",
      "           1       0.57      0.48      0.52      1668\n",
      "\n",
      "    accuracy                           0.80      7500\n",
      "   macro avg       0.71      0.69      0.70      7500\n",
      "weighted avg       0.79      0.80      0.80      7500\n",
      "\n",
      "Mean ROC AUC: 0.644\n",
      "\n",
      "Misclassified examples: 1480\n",
      "Misclassification rate: 1.057 %\n",
      "Test set Accuracy: 0.803\n",
      "Training set Accuracy: 0.803\n",
      "--------------- KerasClassifier: classifier.fit [Done]\n"
     ]
    }
   ],
   "source": [
    "#---------Classification report--------\n",
    "from sklearn.metrics import classification_report, confusion_matrix\n",
    "from sklearn.metrics import accuracy_score\n",
    "print (\"----------------------> [KerasClassifier performance summary]\")\n",
    "pipeline_DR.fit(X_Train, y_Train, mlp_dr__class_weight = class_weight)\n",
    "\n",
    "y_pred_DR = pipeline_DR.predict(X_Test)\n",
    "scores_DR = cross_val_score(pipeline_DR, X_Test, y_Test, scoring='roc_auc', cv=kfold, n_jobs=-1)\n",
    "\n",
    "print(\"Accuracy: {:.3f}\".format(accuracy_score(y_pred_DR, y_Test)))\n",
    "# Confusion Matrix\n",
    "print(\"\\nKerasClassifier Confusion Matrix:\\n\")\n",
    "print(confusion_matrix(y_Test,y_pred_DR))\n",
    "print(\"\\\\nKerasClassifier Classification Report:\\n\")\n",
    "print(classification_report(y_Test,y_pred_DR))\n",
    "print('Mean ROC AUC: %.3f' % scores_DR.mean(), end=\"\\n\\n\")\n",
    "\n",
    "# reduce from 2d array to 1d array\n",
    "y_Test = y_Test.ravel() \n",
    "y_pred_DR= y_pred_DR.ravel() \n",
    "\n",
    "print('Misclassified examples: %d' % (y_Test != y_pred_DR).sum())\n",
    "print('Misclassification rate: %.3f' % ((y_Test != y_pred_DR).sum()/y_pred_DR.sum()) + ' %')\n",
    "print(\"Test set Accuracy: {:.3f}\".format(pipeline_DR.score(X_Test, y_Test)))\n",
    "print(\"Training set Accuracy: {:.3f}\".format(pipeline_DR.score(X_Train, y_Train)))\n",
    "print('--------------- KerasClassifier: classifier.fit [Done]')"
   ]
  },
  {
   "cell_type": "markdown",
   "metadata": {},
   "source": [
    "dropout regulization works better with more feature......only have 18-----perharps consider original dataset with no feature selection....."
   ]
  },
  {
   "cell_type": "code",
   "execution_count": 41,
   "metadata": {},
   "outputs": [
    {
     "data": {
      "image/png": "[encoded data removed]",
      "text/plain": [
       "<Figure size 288x216 with 2 Axes>"
      ]
     },
     "metadata": {
      "needs_background": "light"
     },
     "output_type": "display_data"
    }
   ],
   "source": [
    "#plot of confusion matrix\n",
    "plt.figure(figsize=(4,3))\n",
    "cm =confusion_matrix(y_Test, y_pred_DR)\n",
    "sns.heatmap(cm,annot=True, cmap=\"Blues\", fmt=\"d\", \n",
    "            xticklabels = ['Non-Default', 'Default'], \n",
    "            yticklabels = ['Non-Default', 'Default'])\n",
    "plt.ylabel('True')\n",
    "plt.xlabel('Predicted')\n",
    "plt.title(\"Confusion Matrix Keras Classifier\");"
   ]
  },
  {
   "cell_type": "code",
   "execution_count": 42,
   "metadata": {},
   "outputs": [
    {
     "data": {
      "image/png": "[encoded data removed]",
      "text/plain": [
       "<Figure size 432x288 with 2 Axes>"
      ]
     },
     "metadata": {
      "needs_background": "light"
     },
     "output_type": "display_data"
    }
   ],
   "source": [
    "group_names = ['True Neg','False Pos','False Neg','True Pos']\n",
    "group_counts = ['{0:0.0f}'.format(value) for value in\n",
    "               cm.flatten()]\n",
    "group_percentages = ['{0:.1%}'.format(value) for value in\n",
    "                    cm.flatten()/np.sum(cm)]\n",
    "labels = [f'{v1}\\n{v2}\\n{v3}' for v1, v2, v3 in\n",
    "          zip(group_names,group_counts,group_percentages)]\n",
    "labels = np.asarray(labels).reshape(2,2)\n",
    "sns.heatmap(cm, annot=labels, fmt='', cmap='RdPu')\n",
    "plt.xlabel('\\nPredicted', size=13)\n",
    "plt.ylabel('\\nTrue', size=14)\n",
    "plt.title(\"Confusion Matrix:\\n KerasClassifier \\n\\n\")\n",
    "plt.show()"
   ]
  },
  {
   "cell_type": "markdown",
   "metadata": {},
   "source": [
    "# Dropout Regularization ---Full dataset no Feature Selection"
   ]
  },
  {
   "cell_type": "code",
   "execution_count": 43,
   "metadata": {},
   "outputs": [
    {
     "name": "stdout",
     "output_type": "stream",
     "text": [
      "Visible plus Hidden layers (Training set): 80.78% (1.17%)\n",
      "Visible plus Hidden layers (Test set): 78.64% (0.24%)\n"
     ]
    }
   ],
   "source": [
    "# dropout in the visible and hidden layers with weight constraint\n",
    "def create_model_dr_f(optimizer= 'sgd' , kernel_initializer= 'glorot_uniform'):\n",
    "    # create model\n",
    "    model = Sequential()\n",
    "    model.add(Dropout(0.2, input_shape=(24,)))\n",
    "    model.add(Dense(24, kernel_initializer ='uniform', activation = 'relu', kernel_constraint=maxnorm(3)))\n",
    "    model.add(Dropout(0.2))\n",
    "    model.add(Dense(18, kernel_initializer ='uniform', activation = 'relu', kernel_constraint=maxnorm(3)))\n",
    "    model.add(Dropout(0.2))\n",
    "    model.add(Dense(1, kernel_initializer ='uniform', activation = 'sigmoid'))\n",
    "    # Compile model\n",
    "    sgd = SGD(lr=0.01, momentum=0.99, decay=0.01, nesterov=False)\n",
    "    model.compile(loss= 'binary_crossentropy' , optimizer=sgd, metrics=[ 'accuracy' ])\n",
    "    return model\n",
    "numpy.random.seed(seed)\n",
    "estimators_DRF = []\n",
    "estimators_DRF.append(( 'standardize' , StandardScaler()))\n",
    "estimators_DRF.append(( 'mlp_dr_f' , KerasClassifier(build_fn=create_model_dr_f, nb_epoch=150,batch_size=10, verbose=0)))\n",
    "pipeline_DRF = Pipeline(estimators_DRF)\n",
    "kfold = StratifiedKFold(n_splits=10, shuffle=True, random_state=seed)\n",
    "\n",
    "results_TS5 = cross_val_score(pipeline_DRF, X_train, y_train, cv=kfold)\n",
    "results_VS5 = cross_val_score(pipeline_DRF, X_validation, y_validation, cv=kfold)\n",
    "print(\"Visible plus Hidden layers (Training set): %.2f%% (%.2f%%)\" % (results_TS5.mean()*100, results_TS4.std()*100))\n",
    "print(\"Visible plus Hidden layers (Test set): %.2f%% (%.2f%%)\" % (results_VS5.mean()*100, results_VS4.std()*100))"
   ]
  },
  {
   "cell_type": "code",
   "execution_count": 44,
   "metadata": {},
   "outputs": [
    {
     "name": "stdout",
     "output_type": "stream",
     "text": [
      "----------------------> [KerasClassifier performance summary]\n",
      "Accuracy: 0.807\n",
      "\n",
      "KerasClassifier Confusion Matrix:\n",
      "\n",
      "[[5302  530]\n",
      " [ 917  751]]\n",
      "\\nKerasClassifier Classification Report:\n",
      "\n",
      "              precision    recall  f1-score   support\n",
      "\n",
      "           0       0.85      0.91      0.88      5832\n",
      "           1       0.59      0.45      0.51      1668\n",
      "\n",
      "    accuracy                           0.81      7500\n",
      "   macro avg       0.72      0.68      0.69      7500\n",
      "weighted avg       0.79      0.81      0.80      7500\n",
      "\n",
      "Mean ROC AUC: 0.708\n",
      "\n",
      "Misclassified examples: 1447\n",
      "Misclassification rate: 1.130 %\n",
      "Test set Accuracy: 0.807\n",
      "Training set Accuracy: 0.808\n",
      "--------------- KerasClassifier: classifier.fit [Done]\n"
     ]
    }
   ],
   "source": [
    "#---------Classification report--------\n",
    "from sklearn.metrics import classification_report, confusion_matrix\n",
    "from sklearn.metrics import accuracy_score\n",
    "print (\"----------------------> [KerasClassifier performance summary]\")\n",
    "pipeline_DRF.fit(X_train, y_train, mlp_dr_f__class_weight = class_weight)\n",
    "\n",
    "y_pred_DRF = pipeline_DRF.predict(X_validation)\n",
    "scores_DRF = cross_val_score(pipeline_DRF, X_validation, y_validation, scoring='roc_auc', cv=kfold, n_jobs=-1)\n",
    "\n",
    "print(\"Accuracy: {:.3f}\".format(accuracy_score(y_pred_DRF, y_validation)))\n",
    "# Confusion Matrix\n",
    "print(\"\\nKerasClassifier Confusion Matrix:\\n\")\n",
    "print(confusion_matrix(y_validation,y_pred_DRF))\n",
    "print(\"\\\\nKerasClassifier Classification Report:\\n\")\n",
    "print(classification_report(y_validation,y_pred_DRF))\n",
    "print('Mean ROC AUC: %.3f' % scores_DRF.mean(), end=\"\\n\\n\")\n",
    "\n",
    "# reduce from 2d array to 1d array\n",
    "y_Test = y_Test.ravel() \n",
    "y_pred_DRF= y_pred_DRF.ravel() \n",
    "\n",
    "print('Misclassified examples: %d' % (y_validation != y_pred_DRF).sum())\n",
    "print('Misclassification rate: %.3f' % ((y_validation != y_pred_DRF).sum()/y_pred_DRF.sum()) + ' %')\n",
    "print(\"Test set Accuracy: {:.3f}\".format(pipeline_DRF.score(X_validation, y_validation)))\n",
    "print(\"Training set Accuracy: {:.3f}\".format(pipeline_DRF.score(X_train, y_train)))\n",
    "print('--------------- KerasClassifier: classifier.fit [Done]')"
   ]
  },
  {
   "cell_type": "markdown",
   "metadata": {},
   "source": [
    "dropout regulization works better with more feature......only have 18-----perharps consider original dataset with no feature selection....."
   ]
  },
  {
   "cell_type": "code",
   "execution_count": 45,
   "metadata": {},
   "outputs": [
    {
     "data": {
      "image/png": "[encoded data removed]",
      "text/plain": [
       "<Figure size 288x216 with 2 Axes>"
      ]
     },
     "metadata": {
      "needs_background": "light"
     },
     "output_type": "display_data"
    }
   ],
   "source": [
    "#plot of confusion matrix\n",
    "plt.figure(figsize=(4,3))\n",
    "cm =confusion_matrix(y_validation, y_pred_DRF)\n",
    "sns.heatmap(cm,annot=True, cmap=\"Blues\", fmt=\"d\", \n",
    "            xticklabels = ['Non-Default', 'Default'], \n",
    "            yticklabels = ['Non-Default', 'Default'])\n",
    "plt.ylabel('True')\n",
    "plt.xlabel('Predicted')\n",
    "plt.title(\"Confusion Matrix Keras Classifier\");"
   ]
  },
  {
   "cell_type": "code",
   "execution_count": 46,
   "metadata": {},
   "outputs": [
    {
     "data": {
      "image/png": "[encoded data removed]",
      "text/plain": [
       "<Figure size 432x288 with 2 Axes>"
      ]
     },
     "metadata": {
      "needs_background": "light"
     },
     "output_type": "display_data"
    }
   ],
   "source": [
    "group_names = ['True Neg','False Pos','False Neg','True Pos']\n",
    "group_counts = ['{0:0.0f}'.format(value) for value in\n",
    "               cm.flatten()]\n",
    "group_percentages = ['{0:.1%}'.format(value) for value in\n",
    "                    cm.flatten()/np.sum(cm)]\n",
    "labels = [f'{v1}\\n{v2}\\n{v3}' for v1, v2, v3 in\n",
    "          zip(group_names,group_counts,group_percentages)]\n",
    "labels = np.asarray(labels).reshape(2,2)\n",
    "sns.heatmap(cm, annot=labels, fmt='', cmap='RdPu')\n",
    "plt.xlabel('\\nPredicted', size=13)\n",
    "plt.ylabel('\\nTrue', size=14)\n",
    "plt.title(\"Confusion Matrix:\\n KerasClassifier \\n\\n\")\n",
    "plt.show()"
   ]
  },
  {
   "cell_type": "code",
   "execution_count": 48,
   "metadata": {},
   "outputs": [],
   "source": [
    "from sklearn.metrics import roc_curve\n",
    "from sklearn.metrics import auc\n",
    "fpr_keras, tpr_keras, thresholds_keras = roc_curve(y_Test, y_pred_B)\n",
    "auc_keras = auc(fpr_keras, tpr_keras)\n",
    "fpr_ST, tpr_ST, thresholds_ST = roc_curve(y_Test, y_pred_ST)\n",
    "auc_ST = auc(fpr_ST, tpr_ST)\n",
    "fpr_DR, tpr_DR, thresholds_DR = roc_curve(y_Test, y_pred_DR)\n",
    "auc_DR = auc(fpr_DR, tpr_DR)\n",
    "fpr_DRF, tpr_DRF, thresholds_DRF = roc_curve(y_Test, y_pred_DRF)\n",
    "auc_DRF = auc(fpr_DRF, tpr_DRF)"
   ]
  },
  {
   "cell_type": "code",
   "execution_count": 50,
   "metadata": {},
   "outputs": [
    {
     "data": {
      "image/png": "[encoded data removed]",
      "text/plain": [
       "<Figure size 432x288 with 1 Axes>"
      ]
     },
     "metadata": {
      "needs_background": "light"
     },
     "output_type": "display_data"
    }
   ],
   "source": [
    "plt.figure(1)\n",
    "plt.plot([0, 1], [0, 1], 'k--')\n",
    "plt.plot(fpr_keras, tpr_keras, label='Baseline (area = {:.3f})'.format(auc_keras))\n",
    "plt.plot(fpr_ST, tpr_ST, label='Standardized (area = {:.3f})'.format(auc_ST))\n",
    "plt.plot(fpr_DR, tpr_DR, label='Dropout Regularization (area = {:.3f})'.format(auc_DR))\n",
    "plt.plot(fpr_DRF, tpr_DRF, label='Dropout R_Full Features (area = {:.3f})'.format(auc_DRF))\n",
    "plt.xlabel('False positive rate')\n",
    "plt.ylabel('True positive rate')\n",
    "plt.title('ROC curve')\n",
    "plt.legend(loc='best')\n",
    "plt.show()\n",
    "# Values are different from the ones calculated in classification report --- Those ones are the mean cv scores"
   ]
  },
  {
   "cell_type": "code",
   "execution_count": null,
   "metadata": {},
   "outputs": [],
   "source": []
  }
 ],
 "metadata": {
  "kernelspec": {
   "display_name": "Python 3",
   "language": "python",
   "name": "python3"
  },
  "language_info": {
   "codemirror_mode": {
    "name": "ipython",
    "version": 3
   },
   "file_extension": ".py",
   "mimetype": "text/x-python",
   "name": "python",
   "nbconvert_exporter": "python",
   "pygments_lexer": "ipython3",
   "version": "3.7.9"
  }
 },
 "nbformat": 4,
 "nbformat_minor": 4
}
